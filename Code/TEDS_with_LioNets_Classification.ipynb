{
 "cells": [
  {
   "cell_type": "markdown",
   "metadata": {},
   "source": [
    "# LioNets: Turbofan Engine Degradation Simulation Dataset with Neural Networks -> Classification Task\n",
    "\n",
    "In this notebook, we present how LioNets can be applied in predictive models using time series data."
   ]
  },
  {
   "cell_type": "code",
   "execution_count": 1,
   "metadata": {},
   "outputs": [],
   "source": [
    "import sys\n",
    "\n",
    "if not sys.warnoptions:\n",
    "    import warnings\n",
    "    warnings.simplefilter(\"ignore\")"
   ]
  },
  {
   "cell_type": "code",
   "execution_count": 2,
   "metadata": {
    "scrolled": true
   },
   "outputs": [
    {
     "name": "stderr",
     "output_type": "stream",
     "text": [
      "Using TensorFlow backend.\n"
     ]
    }
   ],
   "source": [
    "%matplotlib inline\n",
    "from IPython.display import Image\n",
    "from IPython.display import SVG\n",
    "from IPython.display import display                               \n",
    "from ipywidgets import interactive, BoundedFloatText, FloatSlider, IntSlider, ToggleButtons,  \\\n",
    "    RadioButtons, IntRangeSlider, Dropdown, jslink, jsdlink, interactive_output, HBox, VBox, Label\n",
    "from load_dataset import Load_Dataset\n",
    "import matplotlib.pyplot as plt\n",
    "from collections import OrderedDict\n",
    "import pandas as pd\n",
    "import seaborn as sns\n",
    "import numpy as np\n",
    "import random\n",
    "import re\n",
    "from math import sqrt, exp, log\n",
    "from sklearn.linear_model import Lasso, Ridge, RidgeCV, SGDRegressor\n",
    "from sklearn.preprocessing import MinMaxScaler\n",
    "from sklearn.metrics.pairwise import pairwise_distances\n",
    "from sklearn.metrics import mean_absolute_error, mean_squared_error, r2_score, f1_score, balanced_accuracy_score, accuracy_score\n",
    "import keras\n",
    "import tensorflow as tf\n",
    "from keras.callbacks import ModelCheckpoint\n",
    "from keras.models import Sequential, Model\n",
    "from keras.layers import Dense, Activation, TimeDistributed, RepeatVector,Flatten, \\\n",
    "    Input, Dropout, LSTM, concatenate, Reshape, Conv1D, GlobalMaxPool1D\n",
    "import keras.backend as K\n",
    "from keras.utils import plot_model\n",
    "from LioNets import LioNet\n",
    "from nbeats_keras.model import NBeatsNet\n",
    "from Interpretable_PCA import iPCA"
   ]
  },
  {
   "cell_type": "markdown",
   "metadata": {},
   "source": [
    "First of all, we load and clean our data."
   ]
  },
  {
   "cell_type": "code",
   "execution_count": 3,
   "metadata": {},
   "outputs": [],
   "source": [
    "fm, feature_names = Load_Dataset.load_data_turbofan(False)\n",
    "\n",
    "fm1_train = fm['FaultMode1']['df_train']\n",
    "fm1_train_target = fm1_train['RUL'].values\n",
    "fm1_test= fm['FaultMode1']['df_test']\n",
    "fm1_test_target = fm1_test['RUL'].values"
   ]
  },
  {
   "cell_type": "markdown",
   "metadata": {},
   "source": [
    "We are dropping some unecessary features."
   ]
  },
  {
   "cell_type": "code",
   "execution_count": 4,
   "metadata": {},
   "outputs": [],
   "source": [
    "LSTM_train = fm1_train.drop(columns=['t', 'os_1', 'os_2', 'os_3', 's_01', 's_05', 's_06', 's_10', 's_16', 's_18', 's_19', 's_22', 's_23', 's_24', 's_25', 's_26'])\n",
    "LSTM_test = fm1_test.drop(columns=['t', 'os_1', 'os_2', 'os_3', 's_01', 's_05', 's_06', 's_10', 's_16', 's_18', 's_19', 's_22', 's_23', 's_24', 's_25', 's_26'])"
   ]
  },
  {
   "cell_type": "markdown",
   "metadata": {
    "collapsed": true
   },
   "source": [
    "We collect the different units, in order to the next steps to create time windows"
   ]
  },
  {
   "cell_type": "code",
   "execution_count": 5,
   "metadata": {},
   "outputs": [],
   "source": [
    "train_units = set(LSTM_train['u'].values)\n",
    "test_units = set(LSTM_test['u'].values)"
   ]
  },
  {
   "cell_type": "markdown",
   "metadata": {},
   "source": [
    "We are scaling our data per feature"
   ]
  },
  {
   "cell_type": "code",
   "execution_count": 6,
   "metadata": {},
   "outputs": [],
   "source": [
    "sensors = ['s_02', 's_03', 's_04', 's_07', 's_08', 's_09', 's_11', 's_12',\n",
    "            's_13', 's_14', 's_15', 's_17', 's_20', 's_21']\n",
    "scalers = {}\n",
    "for column in sensors:\n",
    "    scaler = MinMaxScaler(feature_range=(0.1,1.1))\n",
    "    LSTM_train[column] = scaler.fit_transform(LSTM_train[column].values.reshape(-1,1))\n",
    "    LSTM_test[column] = scaler.transform(LSTM_test[column].values.reshape(-1,1))\n",
    "    scalers[column] = scaler"
   ]
  },
  {
   "cell_type": "markdown",
   "metadata": {},
   "source": [
    "We create time windows with a specific size. In this example, we create time windows of 50 timesteps."
   ]
  },
  {
   "cell_type": "code",
   "execution_count": 7,
   "metadata": {},
   "outputs": [],
   "source": [
    "unit_scalers = {}\n",
    "window = 50\n",
    "temp_LSTM_x_train = []\n",
    "LSTM_y_train = []\n",
    "for unit in train_units:\n",
    "    temp_unit = LSTM_train[LSTM_train['u']==unit].drop(columns=['u','RUL']).values\n",
    "    temp_unit_RUL = LSTM_train[LSTM_train['u']==unit]['RUL'].values\n",
    "    \n",
    "    for i in range(len(temp_unit) - window + 1):#elekse edw an len temp_unit - window > 0\n",
    "        temp_instance = []\n",
    "        for j in range(window):\n",
    "            temp_instance.append(temp_unit[i+j])\n",
    "        temp_LSTM_x_train.append(np.array(temp_instance))\n",
    "        LSTM_y_train.append(temp_unit_RUL[i+window-1])\n",
    "LSTM_y_train = np.array(LSTM_y_train)\n",
    "LSTM_x_train = np.array(temp_LSTM_x_train)\n",
    "\n",
    "temp_LSTM_x_test = []\n",
    "LSTM_y_test = []\n",
    "for unit in test_units:\n",
    "    temp_unit = LSTM_test[LSTM_test['u']==unit].drop(columns=['u','RUL']).values\n",
    "    temp_unit_RUL = LSTM_test[LSTM_test['u']==unit]['RUL'].values\n",
    "        \n",
    "    for i in range(len(temp_unit) - window + 1):#elekse edw an len temp_unit - window > 0\n",
    "        temp_instance = []\n",
    "        for j in range(window):\n",
    "            temp_instance.append(temp_unit[i+j])\n",
    "        temp_LSTM_x_test.append(np.array(temp_instance))\n",
    "        LSTM_y_test.append(temp_unit_RUL[i+window-1])\n",
    "LSTM_y_test = np.array(LSTM_y_test)\n",
    "LSTM_x_test = np.array(temp_LSTM_x_test)"
   ]
  },
  {
   "cell_type": "markdown",
   "metadata": {},
   "source": [
    "We can check how many train, test instances we have. These are changing regarding the time window size."
   ]
  },
  {
   "cell_type": "code",
   "execution_count": 8,
   "metadata": {},
   "outputs": [
    {
     "data": {
      "text/plain": [
       "((15731, 50, 14), (8255, 50, 14), (15731,), (8255,))"
      ]
     },
     "execution_count": 8,
     "metadata": {},
     "output_type": "execute_result"
    }
   ],
   "source": [
    "LSTM_x_train.shape, LSTM_x_test.shape, LSTM_y_train.shape, LSTM_y_test.shape"
   ]
  },
  {
   "cell_type": "markdown",
   "metadata": {},
   "source": [
    "Now we need to transform our RUL to binary classes. 0 Would mean that no maintenance is needed, because the prediction had a high RUL value. 1 would mean that the RUL is low and you may need maintenance on your component! You can try different time frames as well."
   ]
  },
  {
   "cell_type": "code",
   "execution_count": 9,
   "metadata": {},
   "outputs": [],
   "source": [
    "time_frame = 30"
   ]
  },
  {
   "cell_type": "code",
   "execution_count": 10,
   "metadata": {},
   "outputs": [],
   "source": [
    "temp_LSTM_y_train = np.array([1 if i <= time_frame else 0 for i in LSTM_y_train])\n",
    "temp_LSTM_y_test = np.array([1 if i <= time_frame else 0 for i in LSTM_y_test])"
   ]
  },
  {
   "cell_type": "markdown",
   "metadata": {
    "collapsed": true
   },
   "source": [
    "We need a rmse loss function too! for the decoder"
   ]
  },
  {
   "cell_type": "code",
   "execution_count": 11,
   "metadata": {},
   "outputs": [],
   "source": [
    "def root_mean_squared_error(y_true, y_pred):\n",
    "    return K.sqrt(K.mean(K.square(y_pred - y_true))) "
   ]
  },
  {
   "cell_type": "markdown",
   "metadata": {},
   "source": [
    "Now, we can build our predictor"
   ]
  },
  {
   "cell_type": "code",
   "execution_count": 12,
   "metadata": {},
   "outputs": [
    {
     "name": "stdout",
     "output_type": "stream",
     "text": [
      "WARNING:tensorflow:From /Library/Frameworks/Python.framework/Versions/3.7/lib/python3.7/site-packages/tensorflow/python/framework/op_def_library.py:263: colocate_with (from tensorflow.python.framework.ops) is deprecated and will be removed in a future version.\n",
      "Instructions for updating:\n",
      "Colocations handled automatically by placer.\n",
      "WARNING:tensorflow:From /Library/Frameworks/Python.framework/Versions/3.7/lib/python3.7/site-packages/keras/backend/tensorflow_backend.py:3445: calling dropout (from tensorflow.python.ops.nn_ops) with keep_prob is deprecated and will be removed in a future version.\n",
      "Instructions for updating:\n",
      "Please use `rate` instead of `keep_prob`. Rate should be set to `rate = 1 - keep_prob`.\n"
     ]
    }
   ],
   "source": [
    "feature_names = fm1_train.columns\n",
    "encoder_input = Input(shape=(LSTM_x_train[0].shape))\n",
    "\n",
    "encoder_x = LSTM(units=80, return_sequences=True, activation='tanh')(encoder_input)\n",
    "encoder_x = Dropout(0.5)(encoder_x)\n",
    "encoder_x = LSTM(units=40, return_sequences=False, activation='tanh')(encoder_x)\n",
    "\n",
    "encoder_y = Conv1D(filters=40,kernel_size=3,activation='tanh')(encoder_input)\n",
    "encoder_y = GlobalMaxPool1D()(encoder_y)\n",
    "\n",
    "encoded = concatenate([encoder_x,encoder_y])\n",
    "encoded = Dropout(0.5)(encoded)\n",
    "encoded = Dense(80, activation='tanh')(encoded)#Relu and selu\n",
    "encoded = Dropout(0.5)(encoded)\n",
    "encoded = Dense(40, activation='tanh')(encoded)#Relu and selu\n",
    "predictions = Dense(1, activation='sigmoid')(encoded)#Relu and selu\n",
    "predictor = Model(encoder_input,predictions)\n",
    "\n",
    "predictor.compile(optimizer=\"adam\",loss=['binary_crossentropy'],metrics=['accuracy'])\n",
    "#print(predictor.summary())\n",
    "\n",
    "checkpoint_name = 'TEDS_Predictor_Classification.hdf5' \n",
    "checkpoint = ModelCheckpoint(checkpoint_name, monitor='val_loss', verbose = 2, save_best_only = True, mode ='auto')"
   ]
  },
  {
   "cell_type": "markdown",
   "metadata": {},
   "source": [
    "Then, we train the predictor."
   ]
  },
  {
   "cell_type": "code",
   "execution_count": 13,
   "metadata": {
    "scrolled": true
   },
   "outputs": [],
   "source": [
    "#predictor.fit(LSTM_x_train, temp_LSTM_y_train, epochs=250, batch_size=512, shuffle=True, validation_split=0.33, verbose=2, callbacks=[checkpoint])"
   ]
  },
  {
   "cell_type": "markdown",
   "metadata": {},
   "source": [
    "We load our weights, and we measure the performance."
   ]
  },
  {
   "cell_type": "code",
   "execution_count": 14,
   "metadata": {},
   "outputs": [],
   "source": [
    "wights_file = 'TEDS_Predictor_Classification.hdf5' # choose the best checkpoint few features\n",
    "predictor.load_weights(wights_file) # load it\n",
    "predictor.compile(optimizer=\"adam\",loss=[root_mean_squared_error],metrics=['mae','mse'])"
   ]
  },
  {
   "cell_type": "code",
   "execution_count": 15,
   "metadata": {},
   "outputs": [],
   "source": [
    "temp_pred = predictor.predict(LSTM_x_train)"
   ]
  },
  {
   "cell_type": "code",
   "execution_count": 16,
   "metadata": {},
   "outputs": [
    {
     "name": "stdout",
     "output_type": "stream",
     "text": [
      "Train: 0.9758438751509758 0.9756563803680429 0.9542879398101445 0.9758438751509758\n",
      "Test: 0.9855844942459115 0.9845923721401666 0.8467556329064839 0.9855844942459115\n"
     ]
    }
   ],
   "source": [
    "temp_pred = predictor.predict(LSTM_x_train)\n",
    "predictions = [0 if i[0] <=0.5 else 1 for i in temp_pred]\n",
    "print('Train:',f1_score(temp_LSTM_y_train,predictions, average='micro'),f1_score(temp_LSTM_y_train,predictions, average='weighted'),balanced_accuracy_score(temp_LSTM_y_train,predictions),accuracy_score(temp_LSTM_y_train,predictions))\n",
    "\n",
    "temp_pred = predictor.predict(LSTM_x_test)\n",
    "predictions = [0 if i[0] <=0.5 else 1 for i in temp_pred]\n",
    "print('Test:',f1_score(temp_LSTM_y_test,predictions, average='micro'),f1_score(temp_LSTM_y_test,predictions, average='weighted'),balanced_accuracy_score(temp_LSTM_y_test,predictions),accuracy_score(temp_LSTM_y_test,predictions))"
   ]
  },
  {
   "cell_type": "markdown",
   "metadata": {},
   "source": [
    "Then, we have to extract the encoder from our predictor."
   ]
  },
  {
   "cell_type": "code",
   "execution_count": 17,
   "metadata": {
    "scrolled": true
   },
   "outputs": [],
   "source": [
    "encoder = Model(input=predictor.input, output=[predictor.layers[-2].output])\n",
    "encoder.trainable = False\n",
    "encoder.compile(optimizer=\"adam\",loss=[root_mean_squared_error],metrics=['mae','mse'])\n",
    "#encoder.summary()"
   ]
  },
  {
   "cell_type": "markdown",
   "metadata": {},
   "source": [
    "Now we are ready to extract for all instances, their encoded representation"
   ]
  },
  {
   "cell_type": "code",
   "execution_count": 18,
   "metadata": {},
   "outputs": [],
   "source": [
    "encoded_LSTM_x_train = encoder.predict(LSTM_x_train)\n",
    "encoded_LSTM_x_test = encoder.predict(LSTM_x_test)"
   ]
  },
  {
   "cell_type": "markdown",
   "metadata": {},
   "source": [
    "And by that, we build the decoder."
   ]
  },
  {
   "cell_type": "code",
   "execution_count": 19,
   "metadata": {},
   "outputs": [],
   "source": [
    "encoded_input = Input(shape=(encoded_LSTM_x_train[0].shape))\n",
    "decoded = Dense(120, activation='tanh')(encoded_input)\n",
    "decoded = Dropout(0.5)(decoded)\n",
    "\n",
    "decoded_y = RepeatVector(54)(decoded)\n",
    "decoded_y = Conv1D(filters=50,kernel_size=5,activation='tanh')(decoded_y)\n",
    "\n",
    "decoded_x = RepeatVector(50)(decoded)\n",
    "decoded_x = LSTM(units=80, return_sequences=True, activation='tanh')(decoded_x)\n",
    "decoded_x = Dropout(0.5)(decoded_x)\n",
    "decoded_x = LSTM(units=50, return_sequences=True, activation='tanh')(decoded_x)\n",
    "\n",
    "decoded = concatenate([decoded_x,decoded_y])\n",
    "decoded = Dense(50, activation='sigmoid')(decoded)\n",
    "decoded = Dropout(0.5)(decoded)\n",
    "decoded = Dense(14, activation='sigmoid')(decoded)\n",
    "\n",
    "decoder = Model(encoded_input,decoded)\n",
    "\n",
    "decoder.compile(optimizer=\"adam\",loss=[root_mean_squared_error],metrics=['mae','mse'])\n",
    "#print(decoder.summary())\n",
    "\n",
    "checkpoint_name = 'TEDS_Decoder_Classification.hdf5' \n",
    "checkpoint = ModelCheckpoint(checkpoint_name, monitor='val_loss', verbose = 2, save_best_only = True, mode ='auto')"
   ]
  },
  {
   "cell_type": "code",
   "execution_count": 20,
   "metadata": {},
   "outputs": [],
   "source": [
    "#decoder.fit(encoded_LSTM_x_train, LSTM_x_train, epochs=250, batch_size=512, shuffle=True, validation_split=0.33, verbose=2, callbacks=[checkpoint])"
   ]
  },
  {
   "cell_type": "code",
   "execution_count": 21,
   "metadata": {},
   "outputs": [],
   "source": [
    "wights_file = 'TEDS_Decoder_Classification.hdf5' # choose the best checkpoint few features\n",
    "decoder.load_weights(wights_file) # load it\n",
    "decoder.compile(optimizer=\"adam\",loss=[root_mean_squared_error],metrics=['mae','mse'])"
   ]
  },
  {
   "cell_type": "code",
   "execution_count": 22,
   "metadata": {},
   "outputs": [
    {
     "name": "stdout",
     "output_type": "stream",
     "text": [
      "15731/15731 [==============================] - 8s 482us/step\n"
     ]
    },
    {
     "data": {
      "text/plain": [
       "[0.06820674527842154, 0.052121663511208616, 0.004656450242404678]"
      ]
     },
     "execution_count": 22,
     "metadata": {},
     "output_type": "execute_result"
    }
   ],
   "source": [
    "decoder.evaluate(encoded_LSTM_x_train,LSTM_x_train)"
   ]
  },
  {
   "cell_type": "code",
   "execution_count": 23,
   "metadata": {},
   "outputs": [
    {
     "name": "stdout",
     "output_type": "stream",
     "text": [
      "8255/8255 [==============================] - 4s 443us/step\n"
     ]
    },
    {
     "data": {
      "text/plain": [
       "[0.06830550037067201, 0.052297253303820984, 0.0046694804948705535]"
      ]
     },
     "execution_count": 23,
     "metadata": {},
     "output_type": "execute_result"
    }
   ],
   "source": [
    "decoder.evaluate(encoded_LSTM_x_test,LSTM_x_test)"
   ]
  },
  {
   "cell_type": "markdown",
   "metadata": {},
   "source": [
    "---\n",
    "## Forecaster"
   ]
  },
  {
   "cell_type": "code",
   "execution_count": 24,
   "metadata": {},
   "outputs": [],
   "source": [
    "window = 50\n",
    "forecast_timesteps = 5\n",
    "\n",
    "temp_fc_x_train = []\n",
    "temp_fc_y_train = []\n",
    "for unit in train_units:\n",
    "    temp_unit = LSTM_train[LSTM_train['u']==unit].drop(columns=['u','RUL']).values\n",
    "   \n",
    "    for i in range(len(temp_unit) - window - forecast_timesteps + 1):#elekse edw an len temp_unit - window > 0\n",
    "        temp_instance_x = []\n",
    "        temp_instance_y = []\n",
    "        for j in range(window):\n",
    "            temp_instance_x.append(temp_unit[i+j])\n",
    "        for z in range(forecast_timesteps):\n",
    "            temp_instance_y.append(temp_unit[i+j+z+1])            \n",
    "        temp_fc_x_train.append(np.array(temp_instance_x))\n",
    "        temp_fc_y_train.append(np.array(temp_instance_y))       \n",
    "fc_x_train = np.array(temp_fc_x_train)\n",
    "fc_y_train = np.array(temp_fc_y_train)\n",
    "\n",
    "temp_fc_x_test = []\n",
    "temp_fc_y_test = []\n",
    "for unit in test_units:\n",
    "    temp_unit = LSTM_test[LSTM_test['u']==unit].drop(columns=['u','RUL']).values\n",
    "        \n",
    "    for i in range(len(temp_unit) - window - forecast_timesteps + 1):#elekse edw an len temp_unit - window > 0\n",
    "        temp_instance_x = []\n",
    "        temp_instance_y = []\n",
    "        for j in range(window):\n",
    "            temp_instance_x.append(temp_unit[i+j])\n",
    "        for z in range(forecast_timesteps):\n",
    "            temp_instance_y.append(temp_unit[i+j+z+1])            \n",
    "        temp_fc_x_test.append(np.array(temp_instance_x))\n",
    "        temp_fc_y_test.append(np.array(temp_instance_y))       \n",
    "fc_x_test = np.array(temp_fc_x_test)\n",
    "fc_y_test = np.array(temp_fc_y_test)"
   ]
  },
  {
   "cell_type": "code",
   "execution_count": 25,
   "metadata": {},
   "outputs": [
    {
     "data": {
      "text/plain": [
       "((15231, 50, 14), (7794, 50, 14), (15231, 5, 14), (7794, 5, 14))"
      ]
     },
     "execution_count": 25,
     "metadata": {},
     "output_type": "execute_result"
    }
   ],
   "source": [
    "fc_x_train.shape, fc_x_test.shape, fc_y_train.shape, fc_y_test.shape"
   ]
  },
  {
   "cell_type": "code",
   "execution_count": 26,
   "metadata": {},
   "outputs": [
    {
     "name": "stdout",
     "output_type": "stream",
     "text": [
      "__________________________________________________________________________________________________\n",
      "Layer (type)                    Output Shape         Param #     Connected to                     \n",
      "==================================================================================================\n",
      "input_3 (InputLayer)            (None, 50, 14)       0                                            \n",
      "__________________________________________________________________________________________________\n",
      "lstm_5 (LSTM)                   (None, 50, 120)      64800       input_3[0][0]                    \n",
      "__________________________________________________________________________________________________\n",
      "dropout_7 (Dropout)             (None, 50, 120)      0           lstm_5[0][0]                     \n",
      "__________________________________________________________________________________________________\n",
      "lstm_6 (LSTM)                   (None, 50, 50)       34200       dropout_7[0][0]                  \n",
      "__________________________________________________________________________________________________\n",
      "conv1d_4 (Conv1D)               (None, 5, 50)        32250       input_3[0][0]                    \n",
      "__________________________________________________________________________________________________\n",
      "conv1d_3 (Conv1D)               (None, 5, 50)        115050      lstm_6[0][0]                     \n",
      "__________________________________________________________________________________________________\n",
      "concatenate_3 (Concatenate)     (None, 5, 100)       0           conv1d_4[0][0]                   \n",
      "                                                                 conv1d_3[0][0]                   \n",
      "__________________________________________________________________________________________________\n",
      "dropout_8 (Dropout)             (None, 5, 100)       0           concatenate_3[0][0]              \n",
      "__________________________________________________________________________________________________\n",
      "lstm_7 (LSTM)                   (None, 5, 40)        22560       dropout_8[0][0]                  \n",
      "__________________________________________________________________________________________________\n",
      "dropout_9 (Dropout)             (None, 5, 40)        0           lstm_7[0][0]                     \n",
      "__________________________________________________________________________________________________\n",
      "lstm_8 (LSTM)                   (None, 5, 14)        3080        dropout_9[0][0]                  \n",
      "==================================================================================================\n",
      "Total params: 271,940\n",
      "Trainable params: 271,940\n",
      "Non-trainable params: 0\n",
      "__________________________________________________________________________________________________\n"
     ]
    }
   ],
   "source": [
    "forecast_input = Input(shape=(LSTM_x_train[0].shape))\n",
    "\n",
    "forecast_x = LSTM(units=120, return_sequences=True, activation='tanh')(forecast_input)\n",
    "forecast_x = Dropout(0.7)(forecast_x)\n",
    "forecast_x = LSTM(units=50, return_sequences=True, activation='tanh')(forecast_x)\n",
    "forecast_x = Conv1D(filters=50,kernel_size=46,activation='tanh')(forecast_x)\n",
    "\n",
    "\n",
    "forecast_y = Conv1D(filters=50,kernel_size=46,activation='tanh')(forecast_input)\n",
    "#forecast_y = GlobalMaxPool1D()(forecast_y)\n",
    "\n",
    "forecast = concatenate([forecast_y,forecast_x])\n",
    "#forecast = RepeatVector(5)(forecast)\n",
    "forecast = Dropout(0.7)(forecast)\n",
    "forecast = LSTM(40, return_sequences=True, activation='relu')(forecast)#Relu and selu\n",
    "forecast = Dropout(0.7)(forecast)\n",
    "predictions = LSTM(14, return_sequences=True, activation='linear')(forecast)#Relu and selu\n",
    "forecaster = Model(forecast_input,predictions)\n",
    "forecaster.summary()\n",
    "forecaster.compile(optimizer=\"adam\", loss=[root_mean_squared_error],metrics=['mae','mse'])\n",
    "\n",
    "checkpoint_name = 'TEDS_Forecaster_Classification_Matrix.hdf5'\n",
    "checkpoint = ModelCheckpoint(checkpoint_name, monitor='val_loss', verbose = 2, save_best_only = True, mode ='auto')"
   ]
  },
  {
   "cell_type": "code",
   "execution_count": 27,
   "metadata": {
    "scrolled": true
   },
   "outputs": [],
   "source": [
    "#forecaster.fit(fc_x_train, fc_y_train, epochs=250, batch_size=512, shuffle=True, validation_split=0.3, verbose=2, callbacks=[checkpoint])"
   ]
  },
  {
   "cell_type": "code",
   "execution_count": 28,
   "metadata": {},
   "outputs": [],
   "source": [
    "weights_file = 'TEDS_Forecaster_Classification_Matrix.hdf5' # choose the best checkpoint few features\n",
    "forecaster.load_weights(weights_file) # load it\n",
    "forecaster.compile(optimizer=\"adam\",loss=[root_mean_squared_error],metrics=['mae','mse'])"
   ]
  },
  {
   "cell_type": "code",
   "execution_count": 29,
   "metadata": {},
   "outputs": [],
   "source": [
    "# predictions = forecaster.predict(fc_x_train)\n",
    "# print('Train:',mean_absolute_error(fc_y_train.reshape(-1,70),predictions.reshape(-1,70)),mean_squared_error(fc_y_train.reshape(-1,70),predictions.reshape(-1,70)),sqrt(mean_squared_error(fc_y_train.reshape(-1,70),predictions.reshape(-1,70))))\n",
    "# print(r2_score(fc_y_train.reshape(-1,70),predictions.reshape(-1,70)))"
   ]
  },
  {
   "cell_type": "code",
   "execution_count": 30,
   "metadata": {},
   "outputs": [],
   "source": [
    "# predictions = forecaster.predict(fc_x_test)\n",
    "# print('Test:',mean_absolute_error(fc_y_test.reshape(-1,70),predictions.reshape(-1,70)),mean_squared_error(fc_y_test.reshape(-1,70),predictions.reshape(-1,70)),sqrt(mean_squared_error(fc_y_test.reshape(-1,70),predictions.reshape(-1,70))))\n",
    "# print(r2_score(fc_y_test.reshape(-1,70),predictions.reshape(-1,70)))"
   ]
  },
  {
   "cell_type": "markdown",
   "metadata": {},
   "source": [
    "---\n",
    "## N-Beats"
   ]
  },
  {
   "cell_type": "code",
   "execution_count": 31,
   "metadata": {
    "scrolled": true
   },
   "outputs": [
    {
     "name": "stdout",
     "output_type": "stream",
     "text": [
      "__________________________________________________________________________________________________\n",
      "Layer (type)                    Output Shape         Param #     Connected to                     \n",
      "==================================================================================================\n",
      "input_variable (InputLayer)     (None, 50, 14)       0                                            \n",
      "__________________________________________________________________________________________________\n",
      "lambda (Lambda)                 (None, 50)           0           input_variable[0][0]             \n",
      "__________________________________________________________________________________________________\n",
      "0/0/generic/d1 (Dense)          (None, 64)           3264        lambda[0][0]                     \n",
      "                                                                 lambda_1[0][0]                   \n",
      "                                                                 lambda_2[0][0]                   \n",
      "                                                                 lambda_3[0][0]                   \n",
      "                                                                 lambda_4[0][0]                   \n",
      "                                                                 lambda_5[0][0]                   \n",
      "                                                                 lambda_6[0][0]                   \n",
      "                                                                 lambda_7[0][0]                   \n",
      "                                                                 lambda_8[0][0]                   \n",
      "                                                                 lambda_9[0][0]                   \n",
      "                                                                 lambda_10[0][0]                  \n",
      "                                                                 lambda_11[0][0]                  \n",
      "                                                                 lambda_12[0][0]                  \n",
      "                                                                 lambda_13[0][0]                  \n",
      "                                                                 subtract[0][0]                   \n",
      "                                                                 subtract_1[0][0]                 \n",
      "                                                                 subtract_2[0][0]                 \n",
      "                                                                 subtract_3[0][0]                 \n",
      "                                                                 subtract_4[0][0]                 \n",
      "                                                                 subtract_5[0][0]                 \n",
      "                                                                 subtract_6[0][0]                 \n",
      "                                                                 subtract_7[0][0]                 \n",
      "                                                                 subtract_8[0][0]                 \n",
      "                                                                 subtract_9[0][0]                 \n",
      "                                                                 subtract_10[0][0]                \n",
      "                                                                 subtract_11[0][0]                \n",
      "                                                                 subtract_12[0][0]                \n",
      "                                                                 subtract_13[0][0]                \n",
      "__________________________________________________________________________________________________\n",
      "0/0/generic/d2 (Dense)          (None, 64)           4160        0/0/generic/d1[0][0]             \n",
      "                                                                 0/0/generic/d1[1][0]             \n",
      "                                                                 0/0/generic/d1[2][0]             \n",
      "                                                                 0/0/generic/d1[3][0]             \n",
      "                                                                 0/0/generic/d1[4][0]             \n",
      "                                                                 0/0/generic/d1[5][0]             \n",
      "                                                                 0/0/generic/d1[6][0]             \n",
      "                                                                 0/0/generic/d1[7][0]             \n",
      "                                                                 0/0/generic/d1[8][0]             \n",
      "                                                                 0/0/generic/d1[9][0]             \n",
      "                                                                 0/0/generic/d1[10][0]            \n",
      "                                                                 0/0/generic/d1[11][0]            \n",
      "                                                                 0/0/generic/d1[12][0]            \n",
      "                                                                 0/0/generic/d1[13][0]            \n",
      "                                                                 0/0/generic/d1[14][0]            \n",
      "                                                                 0/0/generic/d1[15][0]            \n",
      "                                                                 0/0/generic/d1[16][0]            \n",
      "                                                                 0/0/generic/d1[17][0]            \n",
      "                                                                 0/0/generic/d1[18][0]            \n",
      "                                                                 0/0/generic/d1[19][0]            \n",
      "                                                                 0/0/generic/d1[20][0]            \n",
      "                                                                 0/0/generic/d1[21][0]            \n",
      "                                                                 0/0/generic/d1[22][0]            \n",
      "                                                                 0/0/generic/d1[23][0]            \n",
      "                                                                 0/0/generic/d1[24][0]            \n",
      "                                                                 0/0/generic/d1[25][0]            \n",
      "                                                                 0/0/generic/d1[26][0]            \n",
      "                                                                 0/0/generic/d1[27][0]            \n",
      "__________________________________________________________________________________________________\n",
      "0/0/generic/d3 (Dense)          (None, 64)           4160        0/0/generic/d2[0][0]             \n",
      "                                                                 0/0/generic/d2[1][0]             \n",
      "                                                                 0/0/generic/d2[2][0]             \n",
      "                                                                 0/0/generic/d2[3][0]             \n",
      "                                                                 0/0/generic/d2[4][0]             \n",
      "                                                                 0/0/generic/d2[5][0]             \n",
      "                                                                 0/0/generic/d2[6][0]             \n",
      "                                                                 0/0/generic/d2[7][0]             \n",
      "                                                                 0/0/generic/d2[8][0]             \n",
      "                                                                 0/0/generic/d2[9][0]             \n",
      "                                                                 0/0/generic/d2[10][0]            \n",
      "                                                                 0/0/generic/d2[11][0]            \n",
      "                                                                 0/0/generic/d2[12][0]            \n",
      "                                                                 0/0/generic/d2[13][0]            \n",
      "                                                                 0/0/generic/d2[14][0]            \n",
      "                                                                 0/0/generic/d2[15][0]            \n",
      "                                                                 0/0/generic/d2[16][0]            \n",
      "                                                                 0/0/generic/d2[17][0]            \n",
      "                                                                 0/0/generic/d2[18][0]            \n",
      "                                                                 0/0/generic/d2[19][0]            \n",
      "                                                                 0/0/generic/d2[20][0]            \n",
      "                                                                 0/0/generic/d2[21][0]            \n",
      "                                                                 0/0/generic/d2[22][0]            \n",
      "                                                                 0/0/generic/d2[23][0]            \n",
      "                                                                 0/0/generic/d2[24][0]            \n",
      "                                                                 0/0/generic/d2[25][0]            \n",
      "                                                                 0/0/generic/d2[26][0]            \n",
      "                                                                 0/0/generic/d2[27][0]            \n",
      "__________________________________________________________________________________________________\n",
      "0/0/generic/d4 (Dense)          (None, 64)           4160        0/0/generic/d3[0][0]             \n",
      "                                                                 0/0/generic/d3[1][0]             \n",
      "                                                                 0/0/generic/d3[2][0]             \n",
      "                                                                 0/0/generic/d3[3][0]             \n",
      "                                                                 0/0/generic/d3[4][0]             \n",
      "                                                                 0/0/generic/d3[5][0]             \n",
      "                                                                 0/0/generic/d3[6][0]             \n",
      "                                                                 0/0/generic/d3[7][0]             \n",
      "                                                                 0/0/generic/d3[8][0]             \n",
      "                                                                 0/0/generic/d3[9][0]             \n",
      "                                                                 0/0/generic/d3[10][0]            \n",
      "                                                                 0/0/generic/d3[11][0]            \n",
      "                                                                 0/0/generic/d3[12][0]            \n",
      "                                                                 0/0/generic/d3[13][0]            \n",
      "                                                                 0/0/generic/d3[14][0]            \n",
      "                                                                 0/0/generic/d3[15][0]            \n",
      "                                                                 0/0/generic/d3[16][0]            \n",
      "                                                                 0/0/generic/d3[17][0]            \n",
      "                                                                 0/0/generic/d3[18][0]            \n",
      "                                                                 0/0/generic/d3[19][0]            \n",
      "                                                                 0/0/generic/d3[20][0]            \n",
      "                                                                 0/0/generic/d3[21][0]            \n",
      "                                                                 0/0/generic/d3[22][0]            \n",
      "                                                                 0/0/generic/d3[23][0]            \n",
      "                                                                 0/0/generic/d3[24][0]            \n",
      "                                                                 0/0/generic/d3[25][0]            \n",
      "                                                                 0/0/generic/d3[26][0]            \n",
      "                                                                 0/0/generic/d3[27][0]            \n",
      "__________________________________________________________________________________________________\n",
      "0/0/generic/theta_b (Dense)     (None, 4)            256         0/0/generic/d4[0][0]             \n",
      "                                                                 0/0/generic/d4[1][0]             \n",
      "                                                                 0/0/generic/d4[2][0]             \n",
      "                                                                 0/0/generic/d4[3][0]             \n",
      "                                                                 0/0/generic/d4[4][0]             \n",
      "                                                                 0/0/generic/d4[5][0]             \n",
      "                                                                 0/0/generic/d4[6][0]             \n",
      "                                                                 0/0/generic/d4[7][0]             \n",
      "                                                                 0/0/generic/d4[8][0]             \n",
      "                                                                 0/0/generic/d4[9][0]             \n",
      "                                                                 0/0/generic/d4[10][0]            \n",
      "                                                                 0/0/generic/d4[11][0]            \n",
      "                                                                 0/0/generic/d4[12][0]            \n",
      "                                                                 0/0/generic/d4[13][0]            \n",
      "                                                                 0/0/generic/d4[14][0]            \n",
      "                                                                 0/0/generic/d4[15][0]            \n",
      "                                                                 0/0/generic/d4[16][0]            \n",
      "                                                                 0/0/generic/d4[17][0]            \n",
      "                                                                 0/0/generic/d4[18][0]            \n",
      "                                                                 0/0/generic/d4[19][0]            \n",
      "                                                                 0/0/generic/d4[20][0]            \n",
      "                                                                 0/0/generic/d4[21][0]            \n",
      "                                                                 0/0/generic/d4[22][0]            \n",
      "                                                                 0/0/generic/d4[23][0]            \n",
      "                                                                 0/0/generic/d4[24][0]            \n",
      "                                                                 0/0/generic/d4[25][0]            \n",
      "                                                                 0/0/generic/d4[26][0]            \n",
      "                                                                 0/0/generic/d4[27][0]            \n",
      "__________________________________________________________________________________________________\n",
      "0/0/generic/backcast (Dense)    (None, 50)           250         0/0/generic/theta_b[0][0]        \n",
      "                                                                 0/0/generic/theta_b[1][0]        \n",
      "                                                                 0/0/generic/theta_b[2][0]        \n",
      "                                                                 0/0/generic/theta_b[3][0]        \n",
      "                                                                 0/0/generic/theta_b[4][0]        \n",
      "                                                                 0/0/generic/theta_b[5][0]        \n",
      "                                                                 0/0/generic/theta_b[6][0]        \n",
      "                                                                 0/0/generic/theta_b[7][0]        \n",
      "                                                                 0/0/generic/theta_b[8][0]        \n",
      "                                                                 0/0/generic/theta_b[9][0]        \n",
      "                                                                 0/0/generic/theta_b[10][0]       \n",
      "                                                                 0/0/generic/theta_b[11][0]       \n",
      "                                                                 0/0/generic/theta_b[12][0]       \n",
      "                                                                 0/0/generic/theta_b[13][0]       \n",
      "                                                                 0/0/generic/theta_b[14][0]       \n",
      "                                                                 0/0/generic/theta_b[15][0]       \n",
      "                                                                 0/0/generic/theta_b[16][0]       \n",
      "                                                                 0/0/generic/theta_b[17][0]       \n",
      "                                                                 0/0/generic/theta_b[18][0]       \n",
      "                                                                 0/0/generic/theta_b[19][0]       \n",
      "                                                                 0/0/generic/theta_b[20][0]       \n",
      "                                                                 0/0/generic/theta_b[21][0]       \n",
      "                                                                 0/0/generic/theta_b[22][0]       \n",
      "                                                                 0/0/generic/theta_b[23][0]       \n",
      "                                                                 0/0/generic/theta_b[24][0]       \n",
      "                                                                 0/0/generic/theta_b[25][0]       \n",
      "                                                                 0/0/generic/theta_b[26][0]       \n",
      "                                                                 0/0/generic/theta_b[27][0]       \n",
      "__________________________________________________________________________________________________\n",
      "subtract (Subtract)             (None, 50)           0           lambda[0][0]                     \n",
      "                                                                 0/0/generic/backcast[0][0]       \n",
      "__________________________________________________________________________________________________\n",
      "lambda_1 (Lambda)               (None, 50)           0           input_variable[0][0]             \n",
      "__________________________________________________________________________________________________\n",
      "subtract_14 (Subtract)          (None, 50)           0           subtract[0][0]                   \n",
      "                                                                 0/0/generic/backcast[14][0]      \n",
      "__________________________________________________________________________________________________\n",
      "subtract_1 (Subtract)           (None, 50)           0           lambda_1[0][0]                   \n",
      "                                                                 0/0/generic/backcast[1][0]       \n",
      "__________________________________________________________________________________________________\n",
      "lambda_2 (Lambda)               (None, 50)           0           input_variable[0][0]             \n",
      "__________________________________________________________________________________________________\n",
      "1/0/generic/d1 (Dense)          (None, 64)           3264        subtract_14[0][0]                \n",
      "                                                                 subtract_15[0][0]                \n",
      "                                                                 subtract_16[0][0]                \n",
      "                                                                 subtract_17[0][0]                \n",
      "                                                                 subtract_18[0][0]                \n",
      "                                                                 subtract_19[0][0]                \n",
      "                                                                 subtract_20[0][0]                \n",
      "                                                                 subtract_21[0][0]                \n",
      "                                                                 subtract_22[0][0]                \n",
      "                                                                 subtract_23[0][0]                \n",
      "                                                                 subtract_24[0][0]                \n",
      "                                                                 subtract_25[0][0]                \n",
      "                                                                 subtract_26[0][0]                \n",
      "                                                                 subtract_27[0][0]                \n",
      "                                                                 subtract_28[0][0]                \n",
      "                                                                 subtract_29[0][0]                \n",
      "                                                                 subtract_30[0][0]                \n",
      "                                                                 subtract_31[0][0]                \n",
      "                                                                 subtract_32[0][0]                \n",
      "                                                                 subtract_33[0][0]                \n",
      "                                                                 subtract_34[0][0]                \n",
      "                                                                 subtract_35[0][0]                \n",
      "                                                                 subtract_36[0][0]                \n",
      "                                                                 subtract_37[0][0]                \n",
      "                                                                 subtract_38[0][0]                \n",
      "                                                                 subtract_39[0][0]                \n",
      "                                                                 subtract_40[0][0]                \n",
      "                                                                 subtract_41[0][0]                \n",
      "__________________________________________________________________________________________________\n",
      "1/0/generic/d2 (Dense)          (None, 64)           4160        1/0/generic/d1[0][0]             \n",
      "                                                                 1/0/generic/d1[1][0]             \n",
      "                                                                 1/0/generic/d1[2][0]             \n",
      "                                                                 1/0/generic/d1[3][0]             \n",
      "                                                                 1/0/generic/d1[4][0]             \n",
      "                                                                 1/0/generic/d1[5][0]             \n",
      "                                                                 1/0/generic/d1[6][0]             \n",
      "                                                                 1/0/generic/d1[7][0]             \n",
      "                                                                 1/0/generic/d1[8][0]             \n",
      "                                                                 1/0/generic/d1[9][0]             \n",
      "                                                                 1/0/generic/d1[10][0]            \n",
      "                                                                 1/0/generic/d1[11][0]            \n",
      "                                                                 1/0/generic/d1[12][0]            \n",
      "                                                                 1/0/generic/d1[13][0]            \n",
      "                                                                 1/0/generic/d1[14][0]            \n",
      "                                                                 1/0/generic/d1[15][0]            \n",
      "                                                                 1/0/generic/d1[16][0]            \n",
      "                                                                 1/0/generic/d1[17][0]            \n",
      "                                                                 1/0/generic/d1[18][0]            \n",
      "                                                                 1/0/generic/d1[19][0]            \n",
      "                                                                 1/0/generic/d1[20][0]            \n",
      "                                                                 1/0/generic/d1[21][0]            \n",
      "                                                                 1/0/generic/d1[22][0]            \n",
      "                                                                 1/0/generic/d1[23][0]            \n",
      "                                                                 1/0/generic/d1[24][0]            \n",
      "                                                                 1/0/generic/d1[25][0]            \n",
      "                                                                 1/0/generic/d1[26][0]            \n",
      "                                                                 1/0/generic/d1[27][0]            \n",
      "__________________________________________________________________________________________________\n",
      "1/0/generic/d3 (Dense)          (None, 64)           4160        1/0/generic/d2[0][0]             \n",
      "                                                                 1/0/generic/d2[1][0]             \n",
      "                                                                 1/0/generic/d2[2][0]             \n",
      "                                                                 1/0/generic/d2[3][0]             \n",
      "                                                                 1/0/generic/d2[4][0]             \n",
      "                                                                 1/0/generic/d2[5][0]             \n",
      "                                                                 1/0/generic/d2[6][0]             \n",
      "                                                                 1/0/generic/d2[7][0]             \n",
      "                                                                 1/0/generic/d2[8][0]             \n",
      "                                                                 1/0/generic/d2[9][0]             \n",
      "                                                                 1/0/generic/d2[10][0]            \n",
      "                                                                 1/0/generic/d2[11][0]            \n",
      "                                                                 1/0/generic/d2[12][0]            \n",
      "                                                                 1/0/generic/d2[13][0]            \n",
      "                                                                 1/0/generic/d2[14][0]            \n",
      "                                                                 1/0/generic/d2[15][0]            \n",
      "                                                                 1/0/generic/d2[16][0]            \n",
      "                                                                 1/0/generic/d2[17][0]            \n",
      "                                                                 1/0/generic/d2[18][0]            \n",
      "                                                                 1/0/generic/d2[19][0]            \n",
      "                                                                 1/0/generic/d2[20][0]            \n",
      "                                                                 1/0/generic/d2[21][0]            \n",
      "                                                                 1/0/generic/d2[22][0]            \n",
      "                                                                 1/0/generic/d2[23][0]            \n",
      "                                                                 1/0/generic/d2[24][0]            \n",
      "                                                                 1/0/generic/d2[25][0]            \n",
      "                                                                 1/0/generic/d2[26][0]            \n",
      "                                                                 1/0/generic/d2[27][0]            \n",
      "__________________________________________________________________________________________________\n",
      "1/0/generic/d4 (Dense)          (None, 64)           4160        1/0/generic/d3[0][0]             \n",
      "                                                                 1/0/generic/d3[1][0]             \n",
      "                                                                 1/0/generic/d3[2][0]             \n",
      "                                                                 1/0/generic/d3[3][0]             \n",
      "                                                                 1/0/generic/d3[4][0]             \n",
      "                                                                 1/0/generic/d3[5][0]             \n",
      "                                                                 1/0/generic/d3[6][0]             \n",
      "                                                                 1/0/generic/d3[7][0]             \n",
      "                                                                 1/0/generic/d3[8][0]             \n",
      "                                                                 1/0/generic/d3[9][0]             \n",
      "                                                                 1/0/generic/d3[10][0]            \n",
      "                                                                 1/0/generic/d3[11][0]            \n",
      "                                                                 1/0/generic/d3[12][0]            \n",
      "                                                                 1/0/generic/d3[13][0]            \n",
      "                                                                 1/0/generic/d3[14][0]            \n",
      "                                                                 1/0/generic/d3[15][0]            \n",
      "                                                                 1/0/generic/d3[16][0]            \n",
      "                                                                 1/0/generic/d3[17][0]            \n",
      "                                                                 1/0/generic/d3[18][0]            \n",
      "                                                                 1/0/generic/d3[19][0]            \n",
      "                                                                 1/0/generic/d3[20][0]            \n",
      "                                                                 1/0/generic/d3[21][0]            \n",
      "                                                                 1/0/generic/d3[22][0]            \n",
      "                                                                 1/0/generic/d3[23][0]            \n",
      "                                                                 1/0/generic/d3[24][0]            \n",
      "                                                                 1/0/generic/d3[25][0]            \n",
      "                                                                 1/0/generic/d3[26][0]            \n",
      "                                                                 1/0/generic/d3[27][0]            \n",
      "__________________________________________________________________________________________________\n",
      "1/0/generic/theta_b (Dense)     (None, 4)            256         1/0/generic/d4[0][0]             \n",
      "                                                                 1/0/generic/d4[1][0]             \n",
      "                                                                 1/0/generic/d4[2][0]             \n",
      "                                                                 1/0/generic/d4[3][0]             \n",
      "                                                                 1/0/generic/d4[4][0]             \n",
      "                                                                 1/0/generic/d4[5][0]             \n",
      "                                                                 1/0/generic/d4[6][0]             \n",
      "                                                                 1/0/generic/d4[7][0]             \n",
      "                                                                 1/0/generic/d4[8][0]             \n",
      "                                                                 1/0/generic/d4[9][0]             \n",
      "                                                                 1/0/generic/d4[10][0]            \n",
      "                                                                 1/0/generic/d4[11][0]            \n",
      "                                                                 1/0/generic/d4[12][0]            \n",
      "                                                                 1/0/generic/d4[13][0]            \n",
      "__________________________________________________________________________________________________\n",
      "1/0/generic/backcast (Dense)    (None, 50)           250         1/0/generic/theta_b[0][0]        \n",
      "                                                                 1/0/generic/theta_b[1][0]        \n",
      "                                                                 1/0/generic/theta_b[2][0]        \n",
      "                                                                 1/0/generic/theta_b[3][0]        \n",
      "                                                                 1/0/generic/theta_b[4][0]        \n",
      "                                                                 1/0/generic/theta_b[5][0]        \n",
      "                                                                 1/0/generic/theta_b[6][0]        \n",
      "                                                                 1/0/generic/theta_b[7][0]        \n",
      "                                                                 1/0/generic/theta_b[8][0]        \n",
      "                                                                 1/0/generic/theta_b[9][0]        \n",
      "                                                                 1/0/generic/theta_b[10][0]       \n",
      "                                                                 1/0/generic/theta_b[11][0]       \n",
      "                                                                 1/0/generic/theta_b[12][0]       \n",
      "                                                                 1/0/generic/theta_b[13][0]       \n",
      "__________________________________________________________________________________________________\n",
      "subtract_28 (Subtract)          (None, 50)           0           subtract_14[0][0]                \n",
      "                                                                 1/0/generic/backcast[0][0]       \n",
      "__________________________________________________________________________________________________\n",
      "subtract_15 (Subtract)          (None, 50)           0           subtract_1[0][0]                 \n",
      "                                                                 0/0/generic/backcast[15][0]      \n",
      "__________________________________________________________________________________________________\n",
      "subtract_2 (Subtract)           (None, 50)           0           lambda_2[0][0]                   \n",
      "                                                                 0/0/generic/backcast[2][0]       \n",
      "__________________________________________________________________________________________________\n",
      "lambda_3 (Lambda)               (None, 50)           0           input_variable[0][0]             \n",
      "__________________________________________________________________________________________________\n",
      "subtract_29 (Subtract)          (None, 50)           0           subtract_15[0][0]                \n",
      "                                                                 1/0/generic/backcast[1][0]       \n",
      "__________________________________________________________________________________________________\n",
      "subtract_16 (Subtract)          (None, 50)           0           subtract_2[0][0]                 \n",
      "                                                                 0/0/generic/backcast[16][0]      \n",
      "__________________________________________________________________________________________________\n",
      "subtract_3 (Subtract)           (None, 50)           0           lambda_3[0][0]                   \n",
      "                                                                 0/0/generic/backcast[3][0]       \n",
      "__________________________________________________________________________________________________\n",
      "lambda_4 (Lambda)               (None, 50)           0           input_variable[0][0]             \n",
      "__________________________________________________________________________________________________\n",
      "subtract_30 (Subtract)          (None, 50)           0           subtract_16[0][0]                \n",
      "                                                                 1/0/generic/backcast[2][0]       \n",
      "__________________________________________________________________________________________________\n",
      "subtract_17 (Subtract)          (None, 50)           0           subtract_3[0][0]                 \n",
      "                                                                 0/0/generic/backcast[17][0]      \n",
      "__________________________________________________________________________________________________\n",
      "subtract_4 (Subtract)           (None, 50)           0           lambda_4[0][0]                   \n",
      "                                                                 0/0/generic/backcast[4][0]       \n",
      "__________________________________________________________________________________________________\n",
      "lambda_5 (Lambda)               (None, 50)           0           input_variable[0][0]             \n",
      "__________________________________________________________________________________________________\n",
      "subtract_31 (Subtract)          (None, 50)           0           subtract_17[0][0]                \n",
      "                                                                 1/0/generic/backcast[3][0]       \n",
      "__________________________________________________________________________________________________\n",
      "subtract_18 (Subtract)          (None, 50)           0           subtract_4[0][0]                 \n",
      "                                                                 0/0/generic/backcast[18][0]      \n",
      "__________________________________________________________________________________________________\n",
      "subtract_5 (Subtract)           (None, 50)           0           lambda_5[0][0]                   \n",
      "                                                                 0/0/generic/backcast[5][0]       \n",
      "__________________________________________________________________________________________________\n",
      "lambda_6 (Lambda)               (None, 50)           0           input_variable[0][0]             \n",
      "__________________________________________________________________________________________________\n",
      "subtract_32 (Subtract)          (None, 50)           0           subtract_18[0][0]                \n",
      "                                                                 1/0/generic/backcast[4][0]       \n",
      "__________________________________________________________________________________________________\n",
      "subtract_19 (Subtract)          (None, 50)           0           subtract_5[0][0]                 \n",
      "                                                                 0/0/generic/backcast[19][0]      \n",
      "__________________________________________________________________________________________________\n",
      "subtract_6 (Subtract)           (None, 50)           0           lambda_6[0][0]                   \n",
      "                                                                 0/0/generic/backcast[6][0]       \n",
      "__________________________________________________________________________________________________\n",
      "lambda_7 (Lambda)               (None, 50)           0           input_variable[0][0]             \n",
      "__________________________________________________________________________________________________\n",
      "subtract_33 (Subtract)          (None, 50)           0           subtract_19[0][0]                \n",
      "                                                                 1/0/generic/backcast[5][0]       \n",
      "__________________________________________________________________________________________________\n",
      "subtract_20 (Subtract)          (None, 50)           0           subtract_6[0][0]                 \n",
      "                                                                 0/0/generic/backcast[20][0]      \n",
      "__________________________________________________________________________________________________\n",
      "subtract_7 (Subtract)           (None, 50)           0           lambda_7[0][0]                   \n",
      "                                                                 0/0/generic/backcast[7][0]       \n",
      "__________________________________________________________________________________________________\n",
      "lambda_8 (Lambda)               (None, 50)           0           input_variable[0][0]             \n",
      "__________________________________________________________________________________________________\n",
      "subtract_34 (Subtract)          (None, 50)           0           subtract_20[0][0]                \n",
      "                                                                 1/0/generic/backcast[6][0]       \n",
      "__________________________________________________________________________________________________\n",
      "subtract_21 (Subtract)          (None, 50)           0           subtract_7[0][0]                 \n",
      "                                                                 0/0/generic/backcast[21][0]      \n",
      "__________________________________________________________________________________________________\n",
      "subtract_8 (Subtract)           (None, 50)           0           lambda_8[0][0]                   \n",
      "                                                                 0/0/generic/backcast[8][0]       \n",
      "__________________________________________________________________________________________________\n",
      "lambda_9 (Lambda)               (None, 50)           0           input_variable[0][0]             \n",
      "__________________________________________________________________________________________________\n",
      "subtract_35 (Subtract)          (None, 50)           0           subtract_21[0][0]                \n",
      "                                                                 1/0/generic/backcast[7][0]       \n",
      "__________________________________________________________________________________________________\n",
      "subtract_22 (Subtract)          (None, 50)           0           subtract_8[0][0]                 \n",
      "                                                                 0/0/generic/backcast[22][0]      \n",
      "__________________________________________________________________________________________________\n",
      "subtract_9 (Subtract)           (None, 50)           0           lambda_9[0][0]                   \n",
      "                                                                 0/0/generic/backcast[9][0]       \n",
      "__________________________________________________________________________________________________\n",
      "lambda_10 (Lambda)              (None, 50)           0           input_variable[0][0]             \n",
      "__________________________________________________________________________________________________\n",
      "subtract_36 (Subtract)          (None, 50)           0           subtract_22[0][0]                \n",
      "                                                                 1/0/generic/backcast[8][0]       \n",
      "__________________________________________________________________________________________________\n",
      "subtract_23 (Subtract)          (None, 50)           0           subtract_9[0][0]                 \n",
      "                                                                 0/0/generic/backcast[23][0]      \n",
      "__________________________________________________________________________________________________\n",
      "subtract_10 (Subtract)          (None, 50)           0           lambda_10[0][0]                  \n",
      "                                                                 0/0/generic/backcast[10][0]      \n",
      "__________________________________________________________________________________________________\n",
      "lambda_11 (Lambda)              (None, 50)           0           input_variable[0][0]             \n",
      "__________________________________________________________________________________________________\n",
      "subtract_37 (Subtract)          (None, 50)           0           subtract_23[0][0]                \n",
      "                                                                 1/0/generic/backcast[9][0]       \n",
      "__________________________________________________________________________________________________\n",
      "subtract_24 (Subtract)          (None, 50)           0           subtract_10[0][0]                \n",
      "                                                                 0/0/generic/backcast[24][0]      \n",
      "__________________________________________________________________________________________________\n",
      "subtract_11 (Subtract)          (None, 50)           0           lambda_11[0][0]                  \n",
      "                                                                 0/0/generic/backcast[11][0]      \n",
      "__________________________________________________________________________________________________\n",
      "lambda_12 (Lambda)              (None, 50)           0           input_variable[0][0]             \n",
      "__________________________________________________________________________________________________\n",
      "subtract_38 (Subtract)          (None, 50)           0           subtract_24[0][0]                \n",
      "                                                                 1/0/generic/backcast[10][0]      \n",
      "__________________________________________________________________________________________________\n",
      "subtract_25 (Subtract)          (None, 50)           0           subtract_11[0][0]                \n",
      "                                                                 0/0/generic/backcast[25][0]      \n",
      "__________________________________________________________________________________________________\n",
      "subtract_12 (Subtract)          (None, 50)           0           lambda_12[0][0]                  \n",
      "                                                                 0/0/generic/backcast[12][0]      \n",
      "__________________________________________________________________________________________________\n",
      "lambda_13 (Lambda)              (None, 50)           0           input_variable[0][0]             \n",
      "__________________________________________________________________________________________________\n",
      "subtract_39 (Subtract)          (None, 50)           0           subtract_25[0][0]                \n",
      "                                                                 1/0/generic/backcast[11][0]      \n",
      "__________________________________________________________________________________________________\n",
      "subtract_26 (Subtract)          (None, 50)           0           subtract_12[0][0]                \n",
      "                                                                 0/0/generic/backcast[26][0]      \n",
      "__________________________________________________________________________________________________\n",
      "subtract_13 (Subtract)          (None, 50)           0           lambda_13[0][0]                  \n",
      "                                                                 0/0/generic/backcast[13][0]      \n",
      "__________________________________________________________________________________________________\n",
      "subtract_40 (Subtract)          (None, 50)           0           subtract_26[0][0]                \n",
      "                                                                 1/0/generic/backcast[12][0]      \n",
      "__________________________________________________________________________________________________\n",
      "subtract_27 (Subtract)          (None, 50)           0           subtract_13[0][0]                \n",
      "                                                                 0/0/generic/backcast[27][0]      \n",
      "__________________________________________________________________________________________________\n",
      "subtract_41 (Subtract)          (None, 50)           0           subtract_27[0][0]                \n",
      "                                                                 1/0/generic/backcast[13][0]      \n",
      "__________________________________________________________________________________________________\n",
      "0/0/generic/theta_f (Dense)     (None, 4)            256         0/0/generic/d4[0][0]             \n",
      "                                                                 0/0/generic/d4[1][0]             \n",
      "                                                                 0/0/generic/d4[2][0]             \n",
      "                                                                 0/0/generic/d4[3][0]             \n",
      "                                                                 0/0/generic/d4[4][0]             \n",
      "                                                                 0/0/generic/d4[5][0]             \n",
      "                                                                 0/0/generic/d4[6][0]             \n",
      "                                                                 0/0/generic/d4[7][0]             \n",
      "                                                                 0/0/generic/d4[8][0]             \n",
      "                                                                 0/0/generic/d4[9][0]             \n",
      "                                                                 0/0/generic/d4[10][0]            \n",
      "                                                                 0/0/generic/d4[11][0]            \n",
      "                                                                 0/0/generic/d4[12][0]            \n",
      "                                                                 0/0/generic/d4[13][0]            \n",
      "                                                                 0/0/generic/d4[14][0]            \n",
      "                                                                 0/0/generic/d4[15][0]            \n",
      "                                                                 0/0/generic/d4[16][0]            \n",
      "                                                                 0/0/generic/d4[17][0]            \n",
      "                                                                 0/0/generic/d4[18][0]            \n",
      "                                                                 0/0/generic/d4[19][0]            \n",
      "                                                                 0/0/generic/d4[20][0]            \n",
      "                                                                 0/0/generic/d4[21][0]            \n",
      "                                                                 0/0/generic/d4[22][0]            \n",
      "                                                                 0/0/generic/d4[23][0]            \n",
      "                                                                 0/0/generic/d4[24][0]            \n",
      "                                                                 0/0/generic/d4[25][0]            \n",
      "                                                                 0/0/generic/d4[26][0]            \n",
      "                                                                 0/0/generic/d4[27][0]            \n",
      "__________________________________________________________________________________________________\n",
      "0/0/generic/forecast (Dense)    (None, 5)            25          0/0/generic/theta_f[0][0]        \n",
      "                                                                 0/0/generic/theta_f[1][0]        \n",
      "                                                                 0/0/generic/theta_f[2][0]        \n",
      "                                                                 0/0/generic/theta_f[3][0]        \n",
      "                                                                 0/0/generic/theta_f[4][0]        \n",
      "                                                                 0/0/generic/theta_f[5][0]        \n",
      "                                                                 0/0/generic/theta_f[6][0]        \n",
      "                                                                 0/0/generic/theta_f[7][0]        \n",
      "                                                                 0/0/generic/theta_f[8][0]        \n",
      "                                                                 0/0/generic/theta_f[9][0]        \n",
      "                                                                 0/0/generic/theta_f[10][0]       \n",
      "                                                                 0/0/generic/theta_f[11][0]       \n",
      "                                                                 0/0/generic/theta_f[12][0]       \n",
      "                                                                 0/0/generic/theta_f[13][0]       \n",
      "                                                                 0/0/generic/theta_f[14][0]       \n",
      "                                                                 0/0/generic/theta_f[15][0]       \n",
      "                                                                 0/0/generic/theta_f[16][0]       \n",
      "                                                                 0/0/generic/theta_f[17][0]       \n",
      "                                                                 0/0/generic/theta_f[18][0]       \n",
      "                                                                 0/0/generic/theta_f[19][0]       \n",
      "                                                                 0/0/generic/theta_f[20][0]       \n",
      "                                                                 0/0/generic/theta_f[21][0]       \n",
      "                                                                 0/0/generic/theta_f[22][0]       \n",
      "                                                                 0/0/generic/theta_f[23][0]       \n",
      "                                                                 0/0/generic/theta_f[24][0]       \n",
      "                                                                 0/0/generic/theta_f[25][0]       \n",
      "                                                                 0/0/generic/theta_f[26][0]       \n",
      "                                                                 0/0/generic/theta_f[27][0]       \n",
      "__________________________________________________________________________________________________\n",
      "1/0/generic/theta_f (Dense)     (None, 4)            256         1/0/generic/d4[0][0]             \n",
      "                                                                 1/0/generic/d4[1][0]             \n",
      "                                                                 1/0/generic/d4[2][0]             \n",
      "                                                                 1/0/generic/d4[3][0]             \n",
      "                                                                 1/0/generic/d4[4][0]             \n",
      "                                                                 1/0/generic/d4[5][0]             \n",
      "                                                                 1/0/generic/d4[6][0]             \n",
      "                                                                 1/0/generic/d4[7][0]             \n",
      "                                                                 1/0/generic/d4[8][0]             \n",
      "                                                                 1/0/generic/d4[9][0]             \n",
      "                                                                 1/0/generic/d4[10][0]            \n",
      "                                                                 1/0/generic/d4[11][0]            \n",
      "                                                                 1/0/generic/d4[12][0]            \n",
      "                                                                 1/0/generic/d4[13][0]            \n",
      "                                                                 1/0/generic/d4[14][0]            \n",
      "                                                                 1/0/generic/d4[15][0]            \n",
      "                                                                 1/0/generic/d4[16][0]            \n",
      "                                                                 1/0/generic/d4[17][0]            \n",
      "                                                                 1/0/generic/d4[18][0]            \n",
      "                                                                 1/0/generic/d4[19][0]            \n",
      "                                                                 1/0/generic/d4[20][0]            \n",
      "                                                                 1/0/generic/d4[21][0]            \n",
      "                                                                 1/0/generic/d4[22][0]            \n",
      "                                                                 1/0/generic/d4[23][0]            \n",
      "                                                                 1/0/generic/d4[24][0]            \n",
      "                                                                 1/0/generic/d4[25][0]            \n",
      "                                                                 1/0/generic/d4[26][0]            \n",
      "                                                                 1/0/generic/d4[27][0]            \n",
      "__________________________________________________________________________________________________\n",
      "add (Add)                       (None, 5)            0           0/0/generic/forecast[0][0]       \n",
      "                                                                 0/0/generic/forecast[14][0]      \n",
      "__________________________________________________________________________________________________\n",
      "1/0/generic/forecast (Dense)    (None, 5)            25          1/0/generic/theta_f[0][0]        \n",
      "                                                                 1/0/generic/theta_f[1][0]        \n",
      "                                                                 1/0/generic/theta_f[2][0]        \n",
      "                                                                 1/0/generic/theta_f[3][0]        \n",
      "                                                                 1/0/generic/theta_f[4][0]        \n",
      "                                                                 1/0/generic/theta_f[5][0]        \n",
      "                                                                 1/0/generic/theta_f[6][0]        \n",
      "                                                                 1/0/generic/theta_f[7][0]        \n",
      "                                                                 1/0/generic/theta_f[8][0]        \n",
      "                                                                 1/0/generic/theta_f[9][0]        \n",
      "                                                                 1/0/generic/theta_f[10][0]       \n",
      "                                                                 1/0/generic/theta_f[11][0]       \n",
      "                                                                 1/0/generic/theta_f[12][0]       \n",
      "                                                                 1/0/generic/theta_f[13][0]       \n",
      "                                                                 1/0/generic/theta_f[14][0]       \n",
      "                                                                 1/0/generic/theta_f[15][0]       \n",
      "                                                                 1/0/generic/theta_f[16][0]       \n",
      "                                                                 1/0/generic/theta_f[17][0]       \n",
      "                                                                 1/0/generic/theta_f[18][0]       \n",
      "                                                                 1/0/generic/theta_f[19][0]       \n",
      "                                                                 1/0/generic/theta_f[20][0]       \n",
      "                                                                 1/0/generic/theta_f[21][0]       \n",
      "                                                                 1/0/generic/theta_f[22][0]       \n",
      "                                                                 1/0/generic/theta_f[23][0]       \n",
      "                                                                 1/0/generic/theta_f[24][0]       \n",
      "                                                                 1/0/generic/theta_f[25][0]       \n",
      "                                                                 1/0/generic/theta_f[26][0]       \n",
      "                                                                 1/0/generic/theta_f[27][0]       \n",
      "__________________________________________________________________________________________________\n",
      "add_1 (Add)                     (None, 5)            0           0/0/generic/forecast[1][0]       \n",
      "                                                                 0/0/generic/forecast[15][0]      \n",
      "__________________________________________________________________________________________________\n",
      "add_2 (Add)                     (None, 5)            0           0/0/generic/forecast[2][0]       \n",
      "                                                                 0/0/generic/forecast[16][0]      \n",
      "__________________________________________________________________________________________________\n",
      "add_3 (Add)                     (None, 5)            0           0/0/generic/forecast[3][0]       \n",
      "                                                                 0/0/generic/forecast[17][0]      \n",
      "__________________________________________________________________________________________________\n",
      "add_4 (Add)                     (None, 5)            0           0/0/generic/forecast[4][0]       \n",
      "                                                                 0/0/generic/forecast[18][0]      \n",
      "__________________________________________________________________________________________________\n",
      "add_5 (Add)                     (None, 5)            0           0/0/generic/forecast[5][0]       \n",
      "                                                                 0/0/generic/forecast[19][0]      \n",
      "__________________________________________________________________________________________________\n",
      "add_6 (Add)                     (None, 5)            0           0/0/generic/forecast[6][0]       \n",
      "                                                                 0/0/generic/forecast[20][0]      \n",
      "__________________________________________________________________________________________________\n",
      "add_7 (Add)                     (None, 5)            0           0/0/generic/forecast[7][0]       \n",
      "                                                                 0/0/generic/forecast[21][0]      \n",
      "__________________________________________________________________________________________________\n",
      "add_8 (Add)                     (None, 5)            0           0/0/generic/forecast[8][0]       \n",
      "                                                                 0/0/generic/forecast[22][0]      \n",
      "__________________________________________________________________________________________________\n",
      "add_9 (Add)                     (None, 5)            0           0/0/generic/forecast[9][0]       \n",
      "                                                                 0/0/generic/forecast[23][0]      \n",
      "__________________________________________________________________________________________________\n",
      "add_10 (Add)                    (None, 5)            0           0/0/generic/forecast[10][0]      \n",
      "                                                                 0/0/generic/forecast[24][0]      \n",
      "__________________________________________________________________________________________________\n",
      "add_11 (Add)                    (None, 5)            0           0/0/generic/forecast[11][0]      \n",
      "                                                                 0/0/generic/forecast[25][0]      \n",
      "__________________________________________________________________________________________________\n",
      "add_12 (Add)                    (None, 5)            0           0/0/generic/forecast[12][0]      \n",
      "                                                                 0/0/generic/forecast[26][0]      \n",
      "__________________________________________________________________________________________________\n",
      "add_13 (Add)                    (None, 5)            0           0/0/generic/forecast[13][0]      \n",
      "                                                                 0/0/generic/forecast[27][0]      \n",
      "__________________________________________________________________________________________________\n",
      "add_14 (Add)                    (None, 5)            0           add[0][0]                        \n",
      "                                                                 1/0/generic/forecast[0][0]       \n",
      "__________________________________________________________________________________________________\n",
      "add_15 (Add)                    (None, 5)            0           add_1[0][0]                      \n",
      "                                                                 1/0/generic/forecast[1][0]       \n",
      "__________________________________________________________________________________________________\n",
      "add_16 (Add)                    (None, 5)            0           add_2[0][0]                      \n",
      "                                                                 1/0/generic/forecast[2][0]       \n",
      "__________________________________________________________________________________________________\n",
      "add_17 (Add)                    (None, 5)            0           add_3[0][0]                      \n",
      "                                                                 1/0/generic/forecast[3][0]       \n",
      "__________________________________________________________________________________________________\n",
      "add_18 (Add)                    (None, 5)            0           add_4[0][0]                      \n",
      "                                                                 1/0/generic/forecast[4][0]       \n",
      "__________________________________________________________________________________________________\n",
      "add_19 (Add)                    (None, 5)            0           add_5[0][0]                      \n",
      "                                                                 1/0/generic/forecast[5][0]       \n",
      "__________________________________________________________________________________________________\n",
      "add_20 (Add)                    (None, 5)            0           add_6[0][0]                      \n",
      "                                                                 1/0/generic/forecast[6][0]       \n",
      "__________________________________________________________________________________________________\n",
      "add_21 (Add)                    (None, 5)            0           add_7[0][0]                      \n",
      "                                                                 1/0/generic/forecast[7][0]       \n",
      "__________________________________________________________________________________________________\n",
      "add_22 (Add)                    (None, 5)            0           add_8[0][0]                      \n",
      "                                                                 1/0/generic/forecast[8][0]       \n",
      "__________________________________________________________________________________________________\n",
      "add_23 (Add)                    (None, 5)            0           add_9[0][0]                      \n",
      "                                                                 1/0/generic/forecast[9][0]       \n",
      "__________________________________________________________________________________________________\n",
      "add_24 (Add)                    (None, 5)            0           add_10[0][0]                     \n",
      "                                                                 1/0/generic/forecast[10][0]      \n",
      "__________________________________________________________________________________________________\n",
      "add_25 (Add)                    (None, 5)            0           add_11[0][0]                     \n",
      "                                                                 1/0/generic/forecast[11][0]      \n",
      "__________________________________________________________________________________________________\n",
      "add_26 (Add)                    (None, 5)            0           add_12[0][0]                     \n",
      "                                                                 1/0/generic/forecast[12][0]      \n",
      "__________________________________________________________________________________________________\n",
      "add_27 (Add)                    (None, 5)            0           add_13[0][0]                     \n",
      "                                                                 1/0/generic/forecast[13][0]      \n",
      "__________________________________________________________________________________________________\n",
      "add_28 (Add)                    (None, 5)            0           add_14[0][0]                     \n",
      "                                                                 1/0/generic/forecast[14][0]      \n",
      "__________________________________________________________________________________________________\n",
      "add_29 (Add)                    (None, 5)            0           add_15[0][0]                     \n",
      "                                                                 1/0/generic/forecast[15][0]      \n",
      "__________________________________________________________________________________________________\n",
      "add_30 (Add)                    (None, 5)            0           add_16[0][0]                     \n",
      "                                                                 1/0/generic/forecast[16][0]      \n",
      "__________________________________________________________________________________________________\n",
      "add_31 (Add)                    (None, 5)            0           add_17[0][0]                     \n",
      "                                                                 1/0/generic/forecast[17][0]      \n",
      "__________________________________________________________________________________________________\n",
      "add_32 (Add)                    (None, 5)            0           add_18[0][0]                     \n",
      "                                                                 1/0/generic/forecast[18][0]      \n",
      "__________________________________________________________________________________________________\n",
      "add_33 (Add)                    (None, 5)            0           add_19[0][0]                     \n",
      "                                                                 1/0/generic/forecast[19][0]      \n",
      "__________________________________________________________________________________________________\n",
      "add_34 (Add)                    (None, 5)            0           add_20[0][0]                     \n",
      "                                                                 1/0/generic/forecast[20][0]      \n",
      "__________________________________________________________________________________________________\n",
      "add_35 (Add)                    (None, 5)            0           add_21[0][0]                     \n",
      "                                                                 1/0/generic/forecast[21][0]      \n",
      "__________________________________________________________________________________________________\n",
      "add_36 (Add)                    (None, 5)            0           add_22[0][0]                     \n",
      "                                                                 1/0/generic/forecast[22][0]      \n",
      "__________________________________________________________________________________________________\n",
      "add_37 (Add)                    (None, 5)            0           add_23[0][0]                     \n",
      "                                                                 1/0/generic/forecast[23][0]      \n",
      "__________________________________________________________________________________________________\n",
      "add_38 (Add)                    (None, 5)            0           add_24[0][0]                     \n",
      "                                                                 1/0/generic/forecast[24][0]      \n",
      "__________________________________________________________________________________________________\n",
      "add_39 (Add)                    (None, 5)            0           add_25[0][0]                     \n",
      "                                                                 1/0/generic/forecast[25][0]      \n",
      "__________________________________________________________________________________________________\n",
      "add_40 (Add)                    (None, 5)            0           add_26[0][0]                     \n",
      "                                                                 1/0/generic/forecast[26][0]      \n",
      "__________________________________________________________________________________________________\n",
      "add_41 (Add)                    (None, 5)            0           add_27[0][0]                     \n",
      "                                                                 1/0/generic/forecast[27][0]      \n",
      "__________________________________________________________________________________________________\n",
      "reshape (Reshape)               (None, 5, 1)         0           add_28[0][0]                     \n",
      "__________________________________________________________________________________________________\n",
      "reshape_1 (Reshape)             (None, 5, 1)         0           add_29[0][0]                     \n",
      "__________________________________________________________________________________________________\n",
      "reshape_2 (Reshape)             (None, 5, 1)         0           add_30[0][0]                     \n",
      "__________________________________________________________________________________________________\n",
      "reshape_3 (Reshape)             (None, 5, 1)         0           add_31[0][0]                     \n",
      "__________________________________________________________________________________________________\n",
      "reshape_4 (Reshape)             (None, 5, 1)         0           add_32[0][0]                     \n",
      "__________________________________________________________________________________________________\n",
      "reshape_5 (Reshape)             (None, 5, 1)         0           add_33[0][0]                     \n",
      "__________________________________________________________________________________________________\n",
      "reshape_6 (Reshape)             (None, 5, 1)         0           add_34[0][0]                     \n",
      "__________________________________________________________________________________________________\n",
      "reshape_7 (Reshape)             (None, 5, 1)         0           add_35[0][0]                     \n",
      "__________________________________________________________________________________________________\n",
      "reshape_8 (Reshape)             (None, 5, 1)         0           add_36[0][0]                     \n",
      "__________________________________________________________________________________________________\n",
      "reshape_9 (Reshape)             (None, 5, 1)         0           add_37[0][0]                     \n",
      "__________________________________________________________________________________________________\n",
      "reshape_10 (Reshape)            (None, 5, 1)         0           add_38[0][0]                     \n",
      "__________________________________________________________________________________________________\n",
      "reshape_11 (Reshape)            (None, 5, 1)         0           add_39[0][0]                     \n",
      "__________________________________________________________________________________________________\n",
      "reshape_12 (Reshape)            (None, 5, 1)         0           add_40[0][0]                     \n",
      "__________________________________________________________________________________________________\n",
      "reshape_13 (Reshape)            (None, 5, 1)         0           add_41[0][0]                     \n",
      "__________________________________________________________________________________________________\n",
      "concatenate (Concatenate)       (None, 5, 14)        0           reshape[0][0]                    \n",
      "                                                                 reshape_1[0][0]                  \n",
      "                                                                 reshape_2[0][0]                  \n",
      "                                                                 reshape_3[0][0]                  \n",
      "                                                                 reshape_4[0][0]                  \n",
      "                                                                 reshape_5[0][0]                  \n",
      "                                                                 reshape_6[0][0]                  \n",
      "                                                                 reshape_7[0][0]                  \n",
      "                                                                 reshape_8[0][0]                  \n",
      "                                                                 reshape_9[0][0]                  \n",
      "                                                                 reshape_10[0][0]                 \n",
      "                                                                 reshape_11[0][0]                 \n",
      "                                                                 reshape_12[0][0]                 \n",
      "                                                                 reshape_13[0][0]                 \n",
      "==================================================================================================\n",
      "Total params: 33,062\n",
      "Trainable params: 33,062\n",
      "Non-trainable params: 0\n",
      "__________________________________________________________________________________________________\n"
     ]
    },
    {
     "name": "stdout",
     "output_type": "stream",
     "text": [
      "WARNING:tensorflow:From /Library/Frameworks/Python.framework/Versions/3.7/lib/python3.7/site-packages/tensorflow/python/ops/math_ops.py:3066: to_int32 (from tensorflow.python.ops.math_ops) is deprecated and will be removed in a future version.\n",
      "Instructions for updating:\n",
      "Use tf.cast instead.\n"
     ]
    }
   ],
   "source": [
    "# Definition of the model.\n",
    "nbeats = NBeatsNet(input_dim = 14, backcast_length=50, forecast_length=5,\n",
    "                  stack_types=(NBeatsNet.GENERIC_BLOCK, NBeatsNet.GENERIC_BLOCK), \n",
    "                  nb_blocks_per_stack=2,\n",
    "                  thetas_dim=(4, 4), \n",
    "                  share_weights_in_stack=True, \n",
    "                  hidden_layer_units=64)\n",
    "\n",
    "# Definition of the objective function and the optimizer.\n",
    "nbeats.compile_model(loss='mae', learning_rate=1e-5)\n",
    " \n",
    "# Train the model.\n",
    "#nbeats.fit(fc_x_train, fc_y_train, verbose=1, validation_split=0.3, epochs=100, batch_size=128)\n",
    "\n",
    "# Save the model for later.\n",
    "#nbeats.save('n_beats_model.h5')\n",
    "\n",
    "# # Load the model.\n",
    "nbeats = NBeatsNet.load('n_beats_model.h5')"
   ]
  },
  {
   "cell_type": "code",
   "execution_count": 32,
   "metadata": {},
   "outputs": [
    {
     "name": "stdout",
     "output_type": "stream",
     "text": [
      "Train: 0.1924215501402421 0.06072077858118209 0.24641586511663996\n",
      "-3.2587993124302503\n"
     ]
    }
   ],
   "source": [
    "predictions = nbeats.predict(fc_x_train)\n",
    "print('Train:',mean_absolute_error(fc_y_train.reshape(-1,70),predictions.reshape(-1,70)),mean_squared_error(fc_y_train.reshape(-1,70),predictions.reshape(-1,70)),sqrt(mean_squared_error(fc_y_train.reshape(-1,70),predictions.reshape(-1,70))))\n",
    "print(r2_score(fc_y_train.reshape(-1,70),predictions.reshape(-1,70)))"
   ]
  },
  {
   "cell_type": "code",
   "execution_count": 33,
   "metadata": {},
   "outputs": [
    {
     "name": "stdout",
     "output_type": "stream",
     "text": [
      "Test: 0.2212761386522637 0.0763505727201289 0.276316073944548\n",
      "-11.798754651981874\n"
     ]
    }
   ],
   "source": [
    "predictions = nbeats.predict(fc_x_test)\n",
    "print('Test:',mean_absolute_error(fc_y_test.reshape(-1,70),predictions.reshape(-1,70)),mean_squared_error(fc_y_test.reshape(-1,70),predictions.reshape(-1,70)),sqrt(mean_squared_error(fc_y_test.reshape(-1,70),predictions.reshape(-1,70))))\n",
    "print(r2_score(fc_y_test.reshape(-1,70),predictions.reshape(-1,70)))"
   ]
  },
  {
   "cell_type": "code",
   "execution_count": 34,
   "metadata": {
    "scrolled": true
   },
   "outputs": [
    {
     "data": {
      "text/plain": [
       "[<matplotlib.lines.Line2D at 0x7fc587c8b350>]"
      ]
     },
     "execution_count": 34,
     "metadata": {},
     "output_type": "execute_result"
    },
    {
     "data": {
      "image/png": "[encoded data removed]",
      "text/plain": [
       "<Figure size 432x288 with 1 Axes>"
      ]
     },
     "metadata": {
      "needs_background": "light"
     },
     "output_type": "display_data"
    }
   ],
   "source": [
    "sens = 10\n",
    "j = 70\n",
    "temp_instance = fc_x_train[j].copy()[np.newaxis]\n",
    "nbts = nbeats.predict(temp_instance)\n",
    "pred = forecaster.predict(temp_instance)\n",
    "ln = temp_instance.shape[1]\n",
    "plt.plot(np.arange(ln), temp_instance.squeeze()[:,sens], color='black')\n",
    "plt.plot(np.arange(ln-1,ln+5), np.append(temp_instance.squeeze()[-1:,sens],fc_y_test[j][:,sens]), color='green') # Ground Truth\n",
    "plt.plot(np.arange(ln-1,ln+5), np.append(temp_instance.squeeze()[-1:,sens],pred.squeeze()[:,sens]), color='b') # Neural Forecat \n",
    "plt.plot(np.arange(ln-1,ln+5), np.append(temp_instance.squeeze()[-1:,sens],nbts.squeeze()[:,sens]), color='r') # NBeats"
   ]
  },
  {
   "cell_type": "markdown",
   "metadata": {
    "collapsed": true
   },
   "source": [
    "---\n",
    "## LioNets & Interpretable PCA Experiments \n",
    "Having everything setted up, we are now ready to try our methodology. We first initialize LioNets. LioNets requires a predictor (the classifier itself), an encoder (extracted from the predictor), a decoder, as well as some data (for best results the training data, in order to push the neighbourhood generation through known distribution for the network). \n",
    "\n",
    "We also test the intrepretable capabilities of PCA. Using the LioNet from above we generate a neighbourhood around a test instance and then apply per-sensor PCA reducing the sensor readings dimensionality from 50 (timesteps) to 1. Then we fit the transformed data with their predictions to a Rigde Regression model to acquire the weights(importance) of each sensor. "
   ]
  },
  {
   "cell_type": "code",
   "execution_count": 35,
   "metadata": {},
   "outputs": [],
   "source": [
    "lionet = LioNet(predictor, decoder, encoder, LSTM_x_train)\n",
    "ipca = iPCA(lionet.give_me_the_neighbourhood, 2000, 'local')"
   ]
  },
  {
   "cell_type": "markdown",
   "metadata": {},
   "source": [
    "Then we would like to manually evaluate an instance"
   ]
  },
  {
   "cell_type": "code",
   "execution_count": 36,
   "metadata": {},
   "outputs": [],
   "source": [
    "temp_instance = LSTM_x_train[112].copy()"
   ]
  },
  {
   "cell_type": "markdown",
   "metadata": {},
   "source": [
    "LioNets weights"
   ]
  },
  {
   "cell_type": "code",
   "execution_count": 37,
   "metadata": {},
   "outputs": [],
   "source": [
    "model = Ridge(alpha=0.0001,fit_intercept=True,random_state=0)\n",
    "lionet_weights, real_prediction, local_prediction = lionet.explain_instance(temp_instance,200,model)\n"
   ]
  },
  {
   "cell_type": "markdown",
   "metadata": {},
   "source": [
    "Interpretable PCA weights"
   ]
  },
  {
   "cell_type": "code",
   "execution_count": 38,
   "metadata": {},
   "outputs": [],
   "source": [
    "pca_sensor_weights, pca_timestep_weights = ipca.find_importance(temp_instance)\n",
    "pca_timestep_weights = pca_timestep_weights.reshape(700)"
   ]
  },
  {
   "cell_type": "code",
   "execution_count": 39,
   "metadata": {},
   "outputs": [],
   "source": [
    "weights_dict = {'LioNets':lionet_weights,'Interpretable PCA':pca_timestep_weights}"
   ]
  },
  {
   "cell_type": "markdown",
   "metadata": {},
   "source": [
    "Data statistics -> (Global Mean & STD per sensor) "
   ]
  },
  {
   "cell_type": "code",
   "execution_count": 40,
   "metadata": {},
   "outputs": [],
   "source": [
    "temp_train = LSTM_x_train.reshape(-1,14)\n",
    "global_mean, global_std = [],[]\n",
    "for i in range(14):\n",
    "    global_mean.append(temp_train[:,i].mean())\n",
    "    global_std.append(temp_train[:,i].std())"
   ]
  },
  {
   "cell_type": "markdown",
   "metadata": {},
   "source": [
    "Make modifications to the measurements of a seleced sensor."
   ]
  },
  {
   "cell_type": "code",
   "execution_count": 41,
   "metadata": {},
   "outputs": [],
   "source": [
    "def modify(temp_instance, weights, sens, mod, uni_sldr=0, rd_btn=1, rng_sldr=(1,50)):\n",
    "    \n",
    "    start, end = rng_sldr[0], rng_sldr[1]\n",
    "    \n",
    "    mod_instance = temp_instance.copy()\n",
    "    local_mean = temp_instance[start-1:end,sens].mean()\n",
    "      \n",
    "    # ---MODS---        \n",
    "    if mod == 1: # Uniform\n",
    "        for i in range(start-1, end):\n",
    "            if weights.reshape(50,14)[i,sens] > 0 and rd_btn > 0:\n",
    "                mod_instance[i,sens] = mod_instance[i,sens] + uni_sldr\n",
    "            if weights.reshape(50,14)[i,sens] < 0 and rd_btn < 0:\n",
    "                mod_instance[i,sens] = mod_instance[i,sens] + uni_sldr    \n",
    "    elif mod == 2: # Local MEan\n",
    "        mod_instance[start-1:end, sens] = local_mean    \n",
    "    elif mod == 3: # Global Mean \n",
    "        mod_instance[start-1:end, sens] = global_mean[sens]   \n",
    "    elif mod == 4: # Zeros\n",
    "        mod_instance[start-1:end, sens] = 0.1    \n",
    "    elif mod == 5: # Gaussian Noise\n",
    "        for i in range(start-1, end):\n",
    "            np.random.seed(2000+i)\n",
    "            gaussian_noise = np.random.normal(global_mean[sens], global_std[sens], 1)/10\n",
    "            mod_instance[i,sens] += gaussian_noise[0]\n",
    "        np.clip(mod_instance,0.1,1.1,out=mod_instance)    \n",
    "    elif mod == 6: # Neural Forecaster\n",
    "        prediction = forecaster.predict(np.expand_dims(temp_instance,axis=0))\n",
    "        prediction = prediction.squeeze()\n",
    "        mod_instance = np.append(temp_instance,prediction,axis=0)\n",
    "        mod_instance = mod_instance[5:]\n",
    "    elif mod == 7: # Static Forecaster\n",
    "        for i in range(mod_instance.shape[1]):\n",
    "            dif = mod_instance[-1,i] - mod_instance[-6:-1,i]\n",
    "            temp = np.flip(dif) + mod_instance[-1,i]\n",
    "            #temp = np.array([dif*(e+1) for e,i in enumerate(range(5))]) + mod_instance[-1,i]\n",
    "            mod_instance[:,i] = np.append(mod_instance[5:,i],temp)  \n",
    "            np.clip(mod_instance[:,i],0.1,1.1,out=mod_instance[:,i])\n",
    "    elif mod == 8: # NBeats Forecaster\n",
    "        prediction = nbeats.predict(np.expand_dims(temp_instance,axis=0))\n",
    "        prediction = prediction.squeeze()\n",
    "        mod_instance = np.append(temp_instance,prediction,axis=0)\n",
    "        mod_instance = mod_instance[5:]\n",
    "        \n",
    "    return mod_instance"
   ]
  },
  {
   "cell_type": "code",
   "execution_count": 42,
   "metadata": {},
   "outputs": [],
   "source": [
    "def moded_instance_statistics(instance, interpret_method):\n",
    "    \n",
    "    model = Ridge(alpha=0.0001,fit_intercept=True,random_state=0)\n",
    "    weights, real_prediction, local_prediction = lionet.explain_instance(instance,200,model)\n",
    "    weights = weights * instance.reshape(700)\n",
    "    if interpret_method == 'Interpretable PCA':\n",
    "        _, weights = ipca.find_importance(instance)\n",
    "        weights = weights.reshape(700)\n",
    "    \n",
    "    sensors_all = {}\n",
    "    count = 0\n",
    "    for j in range(50):\n",
    "        count2 = 0\n",
    "        for i in sensors:\n",
    "            sensors_all.setdefault(i,[]).append([j, weights[count+count2], instance[j][count2],\n",
    "                                                 weights[count+count2]*instance[j][count2]])\n",
    "            count2 = count2 + 1\n",
    "        count = count + 14\n",
    "    sensors_std = []\n",
    "    sensors_mean = []\n",
    "    sensors_max = []\n",
    "    sensors_min = []\n",
    "    for i in sensors_all:\n",
    "        naa = np.array(sensors_all[i])[:,3]\n",
    "        sensors_std.append(naa.std())\n",
    "        sensors_mean.append(naa.mean())\n",
    "        sensors_max.append(naa.max())\n",
    "        sensors_min.append(naa.min())\n",
    "    return [real_prediction, local_prediction], sensors_all, [sensors_mean,sensors_std,sensors_min,sensors_max]"
   ]
  },
  {
   "cell_type": "markdown",
   "metadata": {},
   "source": [
    "Find 2 sensors with the most negative and positive influence based on the mean of time-step feature weights.\n",
    "\n",
    "Then recommend certain modifications that can be applied on their measurements that lead to a change in the RUL propability estimation."
   ]
  },
  {
   "cell_type": "code",
   "execution_count": 43,
   "metadata": {},
   "outputs": [],
   "source": [
    "def recommend_modifications(instance, weights, interpret_method):\n",
    "    \n",
    "    _, _, original_sens_stats = moded_instance_statistics(instance,weights)\n",
    "    sensors_mean =  original_sens_stats[0]\n",
    "    indexed = list(enumerate(sensors_mean))\n",
    "    indexed.sort(key=lambda tup: tup[1])\n",
    "    cls0_sens = list([i for i, v in indexed[:2]])\n",
    "    cls1_sens = list(reversed([i for i, v in indexed[-2:]]))\n",
    "#     print(\"Class 0 important sensors:\",sensors[cls0_sens[0]], sensors[cls0_sens[1]])\n",
    "#     print(\"Class 1 important sensors:\",sensors[cls1_sens[0]], sensors[cls1_sens[1]])\n",
    "\n",
    "    mods = ['Original', 'Uniform', 'Mean(Local)', 'Mean(Global)', 'Zero', \\\n",
    "            'Noise', 'Forecast (Neural)', 'Forecast (Static)', 'Forecast (N-Beats)']\n",
    "    wghts = ['Negative Weights', 'Positive Weights']\n",
    "    \n",
    "    cls0_mod_results = []\n",
    "    cls1_mod_results = []\n",
    "    unif_tests= [0.1, 0.5, -0.1, -0.5]\n",
    "    \n",
    "    for sens in cls0_sens:\n",
    "        temp = []\n",
    "        for v,w in zip(unif_tests,np.sign(unif_tests)):\n",
    "            mod_inst = modify(instance, weights, sens, 1, v, w)\n",
    "            #mod_preds, mod_sens_all, mod_sens_stats = moded_instance_statistics(mod_inst,interpret_method)\n",
    "            mod_preds = predictor.predict(np.array([mod_inst,mod_inst]))[0]\n",
    "            temp.append((mod_preds[0],sens,1,v,w))#it was mod_preds[1]\n",
    "        for mod in range(2,len(mods)):\n",
    "            mod_inst = modify(instance, weights, sens, mod)\n",
    "            #mod_preds, mod_sens_all, mod_sens_stats = moded_instance_statistics(mod_inst,interpret_method)\n",
    "            mod_preds = predictor.predict(np.array([mod_inst,mod_inst]))[0]\n",
    "            temp.append((mod_preds[0],sens,mod))#it was mod_preds[1]\n",
    "        cls0_mod_results.append(max(temp))\n",
    "\n",
    "    for sens in cls1_sens:\n",
    "        temp = []\n",
    "        for v,w in zip(unif_tests,-np.sign(unif_tests)):\n",
    "            mod_inst = modify(instance, weights, sens, 1, v, w)\n",
    "            #mod_preds, mod_sens_all, mod_sens_stats = moded_instance_statistics(mod_inst,interpret_method)\n",
    "            mod_preds = predictor.predict(np.array([mod_inst,mod_inst]))[0]\n",
    "            temp.append((mod_preds[0],sens,1,v,w))#it was mod_preds[1]\n",
    "        for mod in range(2,len(mods)):\n",
    "            mod_inst = modify(instance, weights, sens, mod)\n",
    "            #mod_preds, mod_sens_all, mod_sens_stats = moded_instance_statistics(mod_inst,interpret_method)\n",
    "            mod_preds = predictor.predict(np.array([mod_inst,mod_inst]))[0]\n",
    "            temp.append((mod_preds[0],sens,mod))#it was mod_preds[1]\n",
    "        cls1_mod_results.append(min(temp))\n",
    "\n",
    "\n",
    "    recommendation = \"\\t\\t\\t\\t\\t\\t<<< Recommendations >>>\\n\\n\"\n",
    "    for e0,rec in enumerate(cls0_mod_results):\n",
    "        if rec[2]==1:\n",
    "            recommendation += str(e0+1)+\") Try the Uniform modification on sensor \"+str(sensors[rec[1]])+\\\n",
    "            \" with Value: \"+str(rec[3])+\" on the \"+str(wghts[int((1+rec[4])/2)])+\" to increase the RUL propability.\\n\"\n",
    "        else:\n",
    "            recommendation += str(e0+1)+\") Try the \"+str(mods[rec[2]])+\" modification on sensor \"+str(sensors[rec[1]])+ \\\n",
    "            \" to increase the RUL propability.\\n\"\n",
    "       \n",
    "    for e1,rec in enumerate(cls1_mod_results):\n",
    "        if rec[2]==1:\n",
    "            recommendation += str(e1+e0+2)+\") Try the Uniform modification on sensor \"+str(sensors[rec[1]])+\\\n",
    "            \" with Value: \"+str(rec[3])+\" on the \"+str(wghts[int((1+rec[4])/2)])+\" to decrease the RUL propability.\\n\"\n",
    "        else:\n",
    "            recommendation += str(e1+e0+2)+\") Try the \"+str(mods[rec[2]])+\" modification on sensor \"+str(sensors[rec[1]])+ \\\n",
    "            \" to decrease the RUL propability.\\n\"\n",
    "            \n",
    "    return recommendation\n",
    "    "
   ]
  },
  {
   "cell_type": "markdown",
   "metadata": {},
   "source": [
    "Plot the new modified instances and inspect the changes of the predictions. "
   ]
  },
  {
   "cell_type": "code",
   "execution_count": 44,
   "metadata": {},
   "outputs": [],
   "source": [
    "# Original stats\n",
    "original_preds, original_sens_all, original_sens_stats = {},{},{}\n",
    "for method in weights_dict.keys():\n",
    "    original_preds[method], original_sens_all[method], original_sens_stats[method] = \\\n",
    "    moded_instance_statistics(temp_instance,weights_dict[method])\n",
    "\n",
    "# Recommend modifications\n",
    "recommendation = {}\n",
    "\n",
    "#recommendation['LioNets'] = recommend_modifications(temp_instance, weights_dict['LioNets'], 'LioNets') # Only Lionets \n",
    "\n",
    "for method in weights_dict.keys():\n",
    "    recommendation[method] = recommend_modifications(temp_instance, weights_dict[method], method)  # Lionets & IPCA \n",
    "\n",
    "rangeSlider, modType, sens_i_Mod, uniSlider, radioBtn, seeSens = (-1,-1), -1, -1, -1, -1, 1"
   ]
  },
  {
   "cell_type": "code",
   "execution_count": 50,
   "metadata": {
    "scrolled": false
   },
   "outputs": [
    {
     "data": {
      "application/vnd.jupyter.widget-view+json": {
       "model_id": "b53f79d11f044df9becce03e8bf6bb29",
       "version_major": 2,
       "version_minor": 0
      },
      "text/plain": [
       "VBox(children=(HBox(children=(Label(value='Interpretation method:'), ToggleButtons(options=('LioNets', 'Interp…"
      ]
     },
     "metadata": {},
     "output_type": "display_data"
    },
    {
     "data": {
      "application/vnd.jupyter.widget-view+json": {
       "model_id": "665de450d1a843ebac8146fb1575b390",
       "version_major": 2,
       "version_minor": 0
      },
      "text/plain": [
       "Output()"
      ]
     },
     "metadata": {},
     "output_type": "display_data"
    }
   ],
   "source": [
    "def plot_sensor(sens_i, mod_sens_i, mod, rng_sldr, uni_sldr, rd_btn, interpret_type):\n",
    "    \n",
    "    global rangeSlider, modType, sens_i_Mod, uniSlider, radioBtn, seeSens, mod_preds, mod_sens_all, mod_sens_stats\n",
    "    \n",
    "    # Recommend modifications\n",
    "    print(recommendation[interpret_type])\n",
    "    \n",
    "    uniform_slider.disabled, radio_button.disabled, modify_sens_i.disabled, range_slider.disabled = True, True, False, False\n",
    "    if mod==1:\n",
    "        uniform_slider.disabled, radio_button.disabled = False, False\n",
    "    if mod==0 or mod==6 or mod==7 or mod==8:\n",
    "        modify_sens_i.disabled, range_slider.disabled = True, True\n",
    "            \n",
    "    if seeSens == sens_i:\n",
    "        inst_mod = modify(temp_instance, weights_dict[interpret_type], mod_sens_i-1, mod, uni_sldr, rd_btn, rng_sldr)\n",
    "        rangeSlider, modType, sens_i_Mod, uniSlider, radioBtn = rng_sldr, mod, mod_sens_i, uni_sldr, rd_btn\n",
    "        mod_preds, mod_sens_all, mod_sens_stats = moded_instance_statistics(inst_mod, interpret_type)\n",
    "    else:\n",
    "        seeSens = sens_i\n",
    "    \n",
    "    print(\"ORIGINAL -> Real prediction: \" + str(original_preds[interpret_type][0])[:7] + \\\n",
    "          \", Local prediction: \" + str(original_preds[interpret_type][1])[:7])\n",
    "    print(\"  MOD    -> Real prediction: \" + str(mod_preds[0])[:7] + \", Local prediction: \" + str(mod_preds[1])[:7])\n",
    "    \n",
    "    # Plotting the figures \n",
    "    to_vis = [i[2:] for i in sensors]\n",
    "    x = np.arange(len(to_vis))\n",
    "    width = 0.4\n",
    "    \n",
    "    fig, axs = plt.subplots(1, 3, figsize=(18, 4), dpi=200)\n",
    "    axs[0].bar(x-width, original_sens_stats[interpret_type][0], width=width, tick_label=to_vis, align='edge', color='C0')\n",
    "    axs[0].bar(x, mod_sens_stats[0], width=width, tick_label=to_vis, align='edge', color='C1')\n",
    "    axs[0].set_title('Mean')\n",
    "    axs[0].legend(('Οriginal','Modded'))\n",
    "    axs[1].bar(x-width, original_sens_stats[interpret_type][1], width=width, tick_label=to_vis, align='edge', color='C0')\n",
    "    axs[1].bar(x, mod_sens_stats[1], width=width, tick_label=to_vis, align='edge', color='C1')\n",
    "    axs[1].set_title('STD')\n",
    "    axs[2].bar(x-width, original_sens_stats[interpret_type][2], width=width, tick_label=to_vis, align='edge', color='C0',)\n",
    "    axs[2].bar(x-width, original_sens_stats[interpret_type][3], width=width, tick_label=to_vis, align='edge', color='C0')\n",
    "    axs[2].bar(x, mod_sens_stats[2], width=width, tick_label=to_vis, align='edge', color='C1')\n",
    "    axs[2].bar(x, mod_sens_stats[3], width=width, tick_label=to_vis, align='edge', color='C1')\n",
    "    axs[2].set_title('Max and Min')  \n",
    "    #for i in rec_sens:\n",
    "    #    org_means[i].set_ecolor('r')\n",
    "    \n",
    "    #fig.suptitle('Sensor Importance Statistics')\n",
    "    plt.show()\n",
    "\n",
    "    TIMESTEPS = np.arange(temp_instance.shape[0])\n",
    "    \n",
    "    plt.figure(figsize=(14, 4), dpi=200, facecolor='w', edgecolor='k')\n",
    "    plt.subplot(131)\n",
    "    #plt.plot(TIMESTEPS,np.array(original_sens_all[interpret_type][sensors[sens_i-1]])[:,1],color='grey',linestyle = ':')\n",
    "    plt.plot(TIMESTEPS,np.array(mod_sens_all[sensors[sens_i-1]])[:,1],color='tab:blue')\n",
    "    plt.hlines(y=np.array(mod_sens_all[sensors[sens_i-1]])[:,1].mean(), xmin=0, xmax=50, label='mean')\n",
    "    plt.title(str(\"Sensor\\'s \" + sensors[sens_i-1] + \" influence\"))\n",
    "    plt.subplot(132)\n",
    "    plt.plot(TIMESTEPS,np.array(original_sens_all[interpret_type][sensors[sens_i-1]])[:,2],color='grey',linestyle = ':')\n",
    "    plt.plot(TIMESTEPS,np.array(mod_sens_all[sensors[sens_i-1]])[:,2],color='g')\n",
    "    plt.hlines(y=np.array(mod_sens_all[sensors[sens_i-1]])[:,2].mean(), xmin=0, xmax=50, label='mean')\n",
    "    plt.title(str(\"Sensor\\'s \" + sensors[sens_i-1] + \" value\"))\n",
    "    plt.subplot(133)\n",
    "    #plt.plot(TIMESTEPS,np.array(original_sens_all[interpret_type][sensors[sens_i-1]])[:,3],color='grey',linestyle = ':')\n",
    "    plt.plot(TIMESTEPS,np.array(mod_sens_all[sensors[sens_i-1]])[:,3],color='r')\n",
    "    plt.hlines(y=np.array(mod_sens_all[sensors[sens_i-1]])[:,3].mean(), xmin=0, xmax=50, label='mean')\n",
    "    plt.title(str(\"Sensor\\'s \" + sensors[sens_i-1] + \" influence * value\"))\n",
    "    plt.show()\n",
    "    \n",
    "                            ### Setting up the interactive visualization tool ###\n",
    "\n",
    "# UI elements\n",
    "range_slider = IntRangeSlider(value=[1,50], min=1, max=50, description=\"Range: \", continuous_update = False)\n",
    "view_sens_i = IntSlider(min=1, max=14, default_value=2, description=\"View Sensor: \", continuous_update = False)\n",
    "modify_sens_i = IntSlider(min=1, max=14, default_value=2, description=\"Mod Sensor: \", continuous_update = False)\n",
    "uniform_slider = FloatSlider(value=0, min=-1.1, max=1.1, step=0.05, description='Value:', continuous_update = False)\n",
    "radio_button = RadioButtons(options=[('Positive Weights', 1), ('Negative Weights', -1)], description='Affect:')\n",
    "interpret_type = ToggleButtons(options=['LioNets', 'Interpretable PCA'])\n",
    "mod = Dropdown(options=[('Original', 0), ('Uniform', 1), ('Mean (Local)', 2), ('Mean (Global)', 3), ('Zero', 4), ('Noise', 5),\n",
    "                        ('Forecast (Neural)', 6), ('Forecast (Static)', 7), ('Forecast (N-Beats)', 8)], description=\"Mods: \")\n",
    "jsdlink((modify_sens_i, 'value'), (view_sens_i, 'value'))\n",
    "\n",
    "# UI layout\n",
    "interpretable_settings = HBox([Label('Interpretation method:'), interpret_type])\n",
    "interpretable_settings.layout.margin = '0 0 20px 0'\n",
    "mod_settings = HBox([VBox([modify_sens_i,view_sens_i]), VBox([mod, range_slider]), VBox([uniform_slider, radio_button])])\n",
    "ui = VBox([interpretable_settings, mod_settings])\n",
    "\n",
    "# Starting the interactive tool\n",
    "inter = interactive_output(plot_sensor, {'sens_i':view_sens_i, 'mod_sens_i':modify_sens_i, \n",
    "                                         'mod':mod, 'rng_sldr':range_slider, 'uni_sldr':uniform_slider, \n",
    "                                         'rd_btn':radio_button, 'interpret_type': interpret_type})\n",
    "display(ui,inter)"
   ]
  },
  {
   "cell_type": "code",
   "execution_count": null,
   "metadata": {},
   "outputs": [],
   "source": []
  }
 ],
 "metadata": {
  "kernelspec": {
   "display_name": "Python 3",
   "language": "python",
   "name": "python3"
  },
  "language_info": {
   "codemirror_mode": {
    "name": "ipython",
    "version": 3
   },
   "file_extension": ".py",
   "mimetype": "text/x-python",
   "name": "python",
   "nbconvert_exporter": "python",
   "pygments_lexer": "ipython3",
   "version": "3.7.8"
  }
 },
 "nbformat": 4,
 "nbformat_minor": 2
}
