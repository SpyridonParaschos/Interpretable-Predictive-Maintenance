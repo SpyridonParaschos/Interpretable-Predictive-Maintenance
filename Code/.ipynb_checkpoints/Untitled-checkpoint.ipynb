{
 "cells": [
  {
   "cell_type": "code",
   "execution_count": null,
   "metadata": {},
   "outputs": [],
   "source": [
    "forecast_input = Input(shape=(LSTM_x_train[0].shape))\n",
    "\n",
    "forecast_x = LSTM(units=240, return_sequences=True, activation='tanh')(forecast_input)\n",
    "forecast_x = Dropout(0.5)(forecast_x)\n",
    "forecast_x = LSTM(units=120, return_sequences=False, activation='tanh')(forecast_x)\n",
    "\n",
    "forecast_y = Conv1D(filters=120,kernel_size=3,activation='tanh')(forecast_input)\n",
    "forecast_y = GlobalMaxPool1D()(forecast_y)\n",
    "\n",
    "forecast = concatenate([forecast_y,forecast_x])\n",
    "forecast = RepeatVector(5)(forecast)\n",
    "forecast = Dropout(0.5)(forecast)\n",
    "forecast = Dense(120, activation='tanh')(forecast)#Relu and selu\n",
    "forecast = Dropout(0.5)(forecast)\n",
    "forecast = Dense(60, activation='tanh')(forecast)#Relu and selu\n",
    "predictions = Dense(14, activation='sigmoid')(forecast)#Relu and selu\n",
    "forecaster = Model(forecast_input,predictions)\n",
    "\n",
    "forecaster.compile(optimizer=\"adam\", loss=[root_mean_squared_error],metrics=['mae','mse'])\n",
    "\n",
    "checkpoint_name = 'TEDS_Forecaster_Classification_Repeater.hdf5' \n",
    "checkpoint = ModelCheckpoint(checkpoint_name, monitor='val_loss', verbose = 2, save_best_only = True, mode ='auto')"
   ]
  }
 ],
 "metadata": {
  "kernelspec": {
   "display_name": "Python 3",
   "language": "python",
   "name": "python3"
  },
  "language_info": {
   "codemirror_mode": {
    "name": "ipython",
    "version": 3
   },
   "file_extension": ".py",
   "mimetype": "text/x-python",
   "name": "python",
   "nbconvert_exporter": "python",
   "pygments_lexer": "ipython3",
   "version": "3.7.4"
  }
 },
 "nbformat": 4,
 "nbformat_minor": 2
}
